{
 "cells": [
  {
   "cell_type": "code",
   "execution_count": 280,
   "id": "53b72f8a-558f-4a71-9870-27c53d322543",
   "metadata": {},
   "outputs": [],
   "source": [
    "import pandas as pd"
   ]
  },
  {
   "cell_type": "markdown",
   "id": "5a6285e6-5397-4299-ac98-05625c0c419b",
   "metadata": {},
   "source": [
    "### Read Data File"
   ]
  },
  {
   "cell_type": "code",
   "execution_count": null,
   "id": "2b3ef6a6-9558-435d-aac1-8fb53a6c67d7",
   "metadata": {},
   "outputs": [],
   "source": [
    "df = pd.read_excel(\"Eksamen-2024/2024-json ANONYM.xlsx\", engine = 'openpyxl')"
   ]
  },
  {
   "cell_type": "code",
   "execution_count": null,
   "id": "5fe219b0-cc34-47aa-8ea3-07feffeac3c4",
   "metadata": {},
   "outputs": [],
   "source": [
    "df1 = pd.read_excel(\"Eksamen-2024/2023-json-ANONYM.xlsx\", engine = 'openpyxl')"
   ]
  },
  {
   "cell_type": "markdown",
   "id": "b5582b36-6369-4c0c-9490-94028f3b7fb3",
   "metadata": {},
   "source": [
    "#### Finding Missing Data"
   ]
  },
  {
   "cell_type": "code",
   "execution_count": null,
   "id": "d2805531-121f-4354-ac73-b85740ab7481",
   "metadata": {},
   "outputs": [],
   "source": [
    "# finding missing data/Null Data\n",
    "def find_missing_data(df):\n",
    "    \"\"\"Check for missing values and return boolean\"\"\"\n",
    "    df.isna() # return boolean True if values are Null and False if not missing. \n",
    "    return df"
   ]
  },
  {
   "cell_type": "markdown",
   "id": "8df22038-07ab-4fef-b294-6271caa44bf3",
   "metadata": {},
   "source": [
    "### Check for duplicated values"
   ]
  },
  {
   "cell_type": "code",
   "execution_count": null,
   "id": "3d539b01-8652-414d-916e-f3cb129d5fe1",
   "metadata": {},
   "outputs": [],
   "source": [
    "def find_duplicated(df):\n",
    "    \"\"\"Check for duplicates and return boolean.\"\"\"\n",
    "    \n",
    "    df.duplicated()\n",
    "    return df"
   ]
  },
  {
   "cell_type": "markdown",
   "id": "683826b2-ed87-4256-822a-f655fd5f7c55",
   "metadata": {},
   "source": [
    "### Drop Duplicates"
   ]
  },
  {
   "cell_type": "code",
   "execution_count": null,
   "id": "92a2ae3d-c9e0-4751-af61-8f1d73c9f972",
   "metadata": {},
   "outputs": [],
   "source": [
    "# dropping duplicates\n",
    "def drop_duplicated(df):\n",
    "    \"\"\"Drop duplicated rows\"\"\"\n",
    "    \n",
    "    df.drop_duplicates(inplace = True)\n",
    "    return df"
   ]
  },
  {
   "cell_type": "markdown",
   "id": "3ef30061-1369-40d1-9122-967162d63426",
   "metadata": {},
   "source": [
    "### Fill Null Values"
   ]
  },
  {
   "cell_type": "code",
   "execution_count": null,
   "id": "f1e2129b-4403-4f66-9095-33118c9e90e8",
   "metadata": {},
   "outputs": [],
   "source": [
    "def fill_missing_values(df):\n",
    "    \"\"\"Fill in missing values in specified columns\"\"\"\n",
    "    \n",
    "    cols_to_fill = [\n",
    "        'Column1.result.ext_inspera_questions.ext_inspera_candidateResponses.ext_inspera_',\n",
    "        'Column1.result.ext_inspera_questions.ext_inspera_candidateResponses.ext_insper.2',\n",
    "        'Column1.result.ext_inspera_questions.ext_inspera_candidateResponses.ext_insper.1'\n",
    "    ]\n",
    "    \n",
    "    for col in cols_to_fill:\n",
    "        if col in df.columns:\n",
    "            df[col] = df[col].fillna(\"Unknown\")\n",
    "    \n",
    "    return df"
   ]
  },
  {
   "cell_type": "markdown",
   "id": "207f0f0e-b7fc-40dd-82ac-940ad1b7f45c",
   "metadata": {},
   "source": [
    "### Drop missing/null values "
   ]
  },
  {
   "cell_type": "code",
   "execution_count": null,
   "id": "ffb3f3cb-1c2d-4564-ae50-f78c614d9896",
   "metadata": {},
   "outputs": [],
   "source": [
    "# dropping missing/null values\n",
    "def drop_missing(df):\n",
    "    \"\"\"Drop missing (null) values\"\"\"\n",
    "    df.dropna(inplace = True)\n",
    "    # rest default indexes after dropping so it not longer shows older indexes numbers\n",
    "    df = df.reset_index(drop=True)\n",
    "    return df"
   ]
  },
  {
   "cell_type": "markdown",
   "id": "7536ba22-95f7-4e9c-8e65-6783a60079e8",
   "metadata": {},
   "source": [
    "### Drop Non-Useful Columns by Name"
   ]
  },
  {
   "cell_type": "code",
   "execution_count": null,
   "id": "90d8cb0b-acd2-49a7-aac1-042a867a3d7a",
   "metadata": {},
   "outputs": [],
   "source": [
    "# dropping columns using their indexes. \n",
    "#df.drop(df.columns[[0, 1, 2, 9, 10, 11, 12, 13, 16, 17, 20, 23, 25, 26]], axis = 1, inplace = True)\n",
    "\n",
    "def drop_columns(df):\n",
    "    \"\"\" Drop non-useful columns \"\"\"\n",
    "    \n",
    "    # defining columns to drop based on the pattern found on the JSON file\n",
    "    columns_to_drop = [\"Column1.result.sourcedId\", \n",
    "         \"Column1.result.ext_inspera_userAssessmentSetupId\", \n",
    "         \"Column1.result.ext_inspera_userAssessmentId\",\n",
    "         \"Column1.result.ext_inspera_attendance\", \n",
    "         \"Column1.result.lineItem.sourcedId\",\n",
    "         \"Column1.result.lineItem.type\", \n",
    "         \"Column1.result.student.sourcedId\",\n",
    "         \"Column1.result.student.type\", \n",
    "         \"Column1.result.ext_inspera_questions.ext_inspera_questionId\",\n",
    "         \"Column1.result.ext_inspera_questions.ext_inspera_questionContentItemId\", \n",
    "         \"Column1.result.ext_inspera_questions.ext_inspera_questionWeight\",\n",
    "         \"Column1.result.ext_inspera_questions.ext_inspera_candidateResponses.ext_inspera_\",\n",
    "         \"Column1.result.ext_inspera_questions.ext_inspera_candidateResponses.ext_insper.2\",\n",
    "         \"Column1.result.score\", \"Autoscore\", \"Column1.result.dateLastModified\" ]\n",
    "\n",
    "    # condition to take only columns matching the current dataframe (df) \n",
    "    current_df_columns = [col for col in columns_to_drop if col in df.columns]\n",
    "\n",
    "    # drop these columns\n",
    "    df.drop(current_df_columns, axis=1, inplace=True)\n",
    "        \n",
    "    return df"
   ]
  },
  {
   "cell_type": "markdown",
   "id": "0272628e-e106-470f-a7cd-4fe4d6a82b51",
   "metadata": {},
   "source": [
    "### Renaming Columns "
   ]
  },
  {
   "cell_type": "code",
   "execution_count": null,
   "id": "a370e2c5-c744-4fb4-9971-91748e9f22dd",
   "metadata": {},
   "outputs": [],
   "source": [
    "def rename_columns(df):\n",
    "    \"\"\"Rename columns to be easily readable\"\"\"\n",
    "    \n",
    "    rename_map = {\n",
    "        \"Column1.result.ext_inspera_startTime\" : \"Starttid\",\n",
    "        \"Column1.result.ext_inspera_endTime\" : \"Sluttid\",\n",
    "        \"Column1.result.ext_inspera_extraTimeMins\" : \"Ekstratid (minutter)\",\n",
    "        \"Column1.result.ext_inspera_incidentTimeMins\" : \"Hendelsestid (minutter)\",\n",
    "        \"Column1Column1.result.ext_inspera_candidateId\" : \"Kandidat‑ID\",\n",
    "        \"Column1.result.ext_inspera_autoScore\" : \"Resultatpoeng\",\n",
    "        \"Column1.result.ext_inspera_questions.ext_inspera_maxQuestionScore\" : \"Oppgave MaxPoeng\",\n",
    "        \"Column1.result.ext_inspera_questions.ext_inspera_questionNumber\" : \"Oppgave\",\n",
    "        \"Column1.result.ext_inspera_questions.ext_inspera_questionTitle\" : \"Oppgavetittel\",\n",
    "        \"Column1.result.ext_inspera_questions.ext_inspera_durationSeconds\" : \"Oppgavetid (sekunder)\",\n",
    "        \"Column1.result.ext_inspera_questions.ext_inspera_autoScore\" : \"Oppnådd poeng per oppgave\",\n",
    "        \"Column1.result.ext_inspera_questions.ext_inspera_candidateResponses.ext_insper.1\" : \"Kandidatens svar\",\n",
    "        \"Column1\" : \"Kandidat‑ID\",\n",
    "        \"Oppgave Tid\" : \"Oppgavetid (sekunder)\",\n",
    "        \"Oppgave Poeng\" : \"Oppnådd poeng per oppgave\"     \n",
    "    }\n",
    "\n",
    "    filtered_rename_map = {k: v for k, v in rename_map.items() if k in df.columns}\n",
    "\n",
    "    df = df.rename(columns = filtered_rename_map)\n",
    "    return df\n",
    "    "
   ]
  },
  {
   "cell_type": "markdown",
   "id": "dede7150-832c-43dd-95af-669a44139ecd",
   "metadata": {},
   "source": [
    "## Convert Date into time "
   ]
  },
  {
   "cell_type": "code",
   "execution_count": null,
   "id": "eddecfcc-4e16-41f6-b709-172105472543",
   "metadata": {},
   "outputs": [],
   "source": [
    "def convert_into_datetime(df):\n",
    "    \"\"\" Convert dates into datetime format and extract time only for start and end time\"\"\"\n",
    "    # convert specified columns into datetime format\n",
    "    # df['Sist endret'] = pd.to_datetime(df['Sist endret']).dt.tz_localize(None) # dt.tz_localize(None) remove +00:00 UTC time information\n",
    "    df['Starttid'] = pd.to_datetime(df['Starttid'])\n",
    "    df['Sluttid'] = pd.to_datetime(df['Sluttid'])\n",
    "\n",
    "    # dette funker ikke med dt.total_seconds()\n",
    "    # convert speicfied column into time only.\n",
    "    # df['Starttid'] = df['Starttid'].dt.time\n",
    "    # df['Sluttid'] = df['Sluttid'].dt.time\n",
    "\n",
    "    return df "
   ]
  },
  {
   "cell_type": "markdown",
   "id": "9dc45b74-be92-4724-ace8-386ef04e428d",
   "metadata": {},
   "source": [
    "### Adding column for time related statistics "
   ]
  },
  {
   "cell_type": "code",
   "execution_count": null,
   "id": "13fbde47-3378-4052-aa5a-f743c104d3ae",
   "metadata": {},
   "outputs": [],
   "source": [
    "def add_time_usage_columns(df, max_minutes = 240):\n",
    "    \"\"\"\n",
    "    Adds time usage columns to the DataFrame (df):\n",
    "      - Brukt_tid: total time used in minutes\n",
    "      - Tid_igjen: remaining time in minutes\n",
    "      - Prosent_brukt: percent of allowed time used\n",
    "    \"\"\"\n",
    "    df = df.copy()\n",
    "    df[\"Brukt tid (minutter)\"] = round((df[\"Sluttid\"] - df[\"Starttid\"]).dt.total_seconds() / 60 ,2)\n",
    "    df[\"Tid igjen (minutter)\"] = round(max_minutes - df[\"Brukt tid (minutter)\"], 2)\n",
    "    df[\"%Tid brukt\"] = round((df[\"Brukt tid (minutter)\"] / max_minutes) * 100, 2)\n",
    "    return df"
   ]
  },
  {
   "cell_type": "markdown",
   "id": "ab13b2f7-d67e-49aa-b4d7-355fe40ac4d9",
   "metadata": {},
   "source": [
    "### Re-order Columns"
   ]
  },
  {
   "cell_type": "code",
   "execution_count": null,
   "id": "33abef9f-5a24-4dfa-bc92-668f494edcac",
   "metadata": {},
   "outputs": [],
   "source": [
    "def reorder_columns(df):\n",
    "    \"\"\"Re-order columns in the dataframe\"\"\"\n",
    "\n",
    "    # intilizing desired order \n",
    "    ordered_columns = [\n",
    "    \"Kandidat‑ID\",\n",
    "    \"Oppgave\",\n",
    "    \"Oppgavetittel\",\n",
    "    \"Starttid\",\n",
    "    \"Sluttid\",\n",
    "    \"Ekstratid (minutter)\",\n",
    "    \"Hendelsestid (minutter)\",\n",
    "    \"Oppgavetid (sekunder)\",\n",
    "    \"Kandidatens svar\",\n",
    "    \"Oppnådd poeng per oppgav\",\n",
    "    \"Oppgave MaxPoeng\",\n",
    "    \"Brukt tid (minutter)\",\n",
    "    \"Tid igjen (minutter)\",\n",
    "    \"%Tid brukt\",\n",
    "    \"Resultatpoeng\"]\n",
    "\n",
    "    # check if columns name exist in current Dataframe (df)\n",
    "    current_df_columns = [col for col in ordered_columns if col in df.columns]\n",
    "\n",
    "    # re-order df based on the new order\n",
    "    df = df[current_df_columns]\n",
    "    \n",
    "    return df"
   ]
  },
  {
   "cell_type": "markdown",
   "id": "ad07d2a0-0a02-4075-83b4-9a5ef1bdb5d5",
   "metadata": {},
   "source": [
    "## Cleaning 2023 Exam File"
   ]
  },
  {
   "cell_type": "code",
   "execution_count": null,
   "id": "6034d77e-34f0-474e-81c4-9ce33b98dd02",
   "metadata": {},
   "outputs": [],
   "source": [
    "# Dropping duplicated values \n",
    "df1 = drop_duplicated(df1)\n",
    "# df1"
   ]
  },
  {
   "cell_type": "code",
   "execution_count": null,
   "id": "51950592-8477-495a-bf3e-8a160ffa8991",
   "metadata": {},
   "outputs": [],
   "source": [
    "# fill missing value with unknown\n",
    "df1 = fill_missing_values(df1)\n",
    "# df1 "
   ]
  },
  {
   "cell_type": "code",
   "execution_count": null,
   "id": "16f4041f-bddf-4fb1-a887-2bbcf378d6d0",
   "metadata": {},
   "outputs": [],
   "source": [
    "# Dropping missing values \n",
    "# df1 = drop_missing(df1)\n",
    "# df1"
   ]
  },
  {
   "cell_type": "code",
   "execution_count": null,
   "id": "dc1784fe-8b3e-429f-b3de-be09428b9934",
   "metadata": {},
   "outputs": [],
   "source": [
    "# Dropping non-useful columns\n",
    "df1 = drop_columns(df1)\n",
    "# df1"
   ]
  },
  {
   "cell_type": "code",
   "execution_count": null,
   "id": "c48dacde-31cd-4299-8f7a-a84f165ac42a",
   "metadata": {},
   "outputs": [],
   "source": [
    "# Renaming Columns\n",
    "df1 = rename_columns(df1)\n",
    "# df1"
   ]
  },
  {
   "cell_type": "code",
   "execution_count": null,
   "id": "ef2990cb-f8bc-420b-a20d-13c55da47436",
   "metadata": {},
   "outputs": [],
   "source": [
    "# changing time and date format\n",
    "df1 = convert_into_datetime(df1)\n",
    "# df1"
   ]
  },
  {
   "cell_type": "code",
   "execution_count": null,
   "id": "63ed72b6-598d-47d8-b289-e3d5bd8a88ca",
   "metadata": {},
   "outputs": [],
   "source": [
    "# add time usage columns\n",
    "df1 = add_time_usage_columns(df1, 240)\n",
    "df1"
   ]
  },
  {
   "cell_type": "code",
   "execution_count": null,
   "id": "b4710b0b-a5ae-4005-ac34-b9b7f21dbe91",
   "metadata": {},
   "outputs": [],
   "source": [
    "# re-order columns \n",
    "df1 = reorder_columns(df1)\n",
    "df1"
   ]
  },
  {
   "cell_type": "markdown",
   "id": "ad50e0ae-28f6-4d2d-95a7-c0391c1e6192",
   "metadata": {},
   "source": [
    "## Cleaning 2024 Exam File"
   ]
  },
  {
   "cell_type": "code",
   "execution_count": null,
   "id": "807e32fa-45af-4da2-b11c-8128bc5fc77e",
   "metadata": {},
   "outputs": [],
   "source": [
    "# Dropping duplicated values \n",
    "df = drop_duplicated(df)"
   ]
  },
  {
   "cell_type": "code",
   "execution_count": null,
   "id": "6b784f30-fa25-4b13-8060-f0ab899c5d07",
   "metadata": {},
   "outputs": [],
   "source": [
    "# Fill missing value with unknown\n",
    "df = fill_missing_values(df)\n",
    "# df"
   ]
  },
  {
   "cell_type": "code",
   "execution_count": null,
   "id": "f67b1c69-b875-4c34-9491-5c5996a5082d",
   "metadata": {},
   "outputs": [],
   "source": [
    "# Dropping missing values \n",
    "# df = drop_missing(df)\n",
    "# df"
   ]
  },
  {
   "cell_type": "code",
   "execution_count": null,
   "id": "90b6066f-1d14-40cf-aede-e0e98fd380ab",
   "metadata": {},
   "outputs": [],
   "source": [
    "# Dropping non-useful columns\n",
    "df = drop_columns(df)"
   ]
  },
  {
   "cell_type": "code",
   "execution_count": null,
   "id": "f722bed1-700d-4e5b-b57b-a397a6d2d739",
   "metadata": {},
   "outputs": [],
   "source": [
    "# Renaming Columns\n",
    "df = rename_columns(df)\n",
    "# df"
   ]
  },
  {
   "cell_type": "code",
   "execution_count": null,
   "id": "41c44d74-857e-4918-8f1f-a89027e1256f",
   "metadata": {},
   "outputs": [],
   "source": [
    "# changing time and date format\n",
    "df = convert_into_datetime(df)"
   ]
  },
  {
   "cell_type": "code",
   "execution_count": null,
   "id": "21d46389-2fbf-41c7-9ed8-38dd395467ac",
   "metadata": {},
   "outputs": [],
   "source": [
    "# add time usage columns\n",
    "df = add_time_usage_columns(df, 240)\n",
    "df"
   ]
  },
  {
   "cell_type": "code",
   "execution_count": null,
   "id": "acd70faa-41f1-46ba-a090-0ef972a9f754",
   "metadata": {},
   "outputs": [],
   "source": [
    "# re-order columns\n",
    "df = reorder_columns(df)\n",
    "df"
   ]
  },
  {
   "cell_type": "markdown",
   "id": "c6278afd-5f08-43d1-9f4d-5277a406358f",
   "metadata": {},
   "source": [
    "### Export Cleaned data to excel"
   ]
  },
  {
   "cell_type": "code",
   "execution_count": null,
   "id": "adf0b658-9c0a-4c67-abdc-ac11b913616e",
   "metadata": {},
   "outputs": [],
   "source": [
    "# df1.to_excel('clean_exam_2023.xlsx', index = False)"
   ]
  },
  {
   "cell_type": "code",
   "execution_count": null,
   "id": "a44a42b2-96e4-4aed-84fc-2141aa07f745",
   "metadata": {},
   "outputs": [],
   "source": [
    "# df.to_excel('clean_exam_2024.xlsx', index=False)"
   ]
  },
  {
   "cell_type": "code",
   "execution_count": null,
   "id": "e650b7ec-946a-4e1c-8ee3-87fac0324585",
   "metadata": {},
   "outputs": [],
   "source": []
  }
 ],
 "metadata": {
  "kernelspec": {
   "display_name": "Python 3 (ipykernel)",
   "language": "python",
   "name": "python3"
  },
  "language_info": {
   "codemirror_mode": {
    "name": "ipython",
    "version": 3
   },
   "file_extension": ".py",
   "mimetype": "text/x-python",
   "name": "python",
   "nbconvert_exporter": "python",
   "pygments_lexer": "ipython3",
   "version": "3.12.11"
  }
 },
 "nbformat": 4,
 "nbformat_minor": 5
}
