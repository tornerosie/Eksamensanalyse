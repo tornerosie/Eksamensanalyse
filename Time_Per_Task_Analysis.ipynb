{
 "cells": [
  {
   "cell_type": "code",
   "execution_count": 56,
   "id": "19b7e774-f48a-406e-8951-84125d97651d",
   "metadata": {},
   "outputs": [],
   "source": [
    "import pandas as pd\n",
    "import numpy as np\n",
    "import matplotlib.pyplot as plt\n",
    "import seaborn as sns"
   ]
  },
  {
   "cell_type": "markdown",
   "id": "b306c1be-141e-4a54-afd0-f96d4592d2c3",
   "metadata": {},
   "source": [
    "### Read Data"
   ]
  },
  {
   "cell_type": "code",
   "execution_count": 57,
   "id": "77d8266a-58c7-4427-8472-f5245fe50d18",
   "metadata": {},
   "outputs": [],
   "source": [
    "def read_data(file_path):\n",
    "    '''Read Excel File'''\n",
    "    \n",
    "    df = pd.read_excel(file_path, engine = 'openpyxl')\n",
    "\n",
    "    return df"
   ]
  },
  {
   "cell_type": "markdown",
   "id": "52e2252b-9508-40a6-b8ad-f8905aaf6489",
   "metadata": {},
   "source": [
    "### Prep data for time per question analysis"
   ]
  },
  {
   "cell_type": "code",
   "execution_count": 58,
   "id": "f8d16d39-f039-423f-98a8-bb741b47b045",
   "metadata": {},
   "outputs": [],
   "source": [
    "def prep_time_per_task(df):\n",
    "    '''Extract time relevant data for each student per question and create new df'''\n",
    "    \n",
    "    task_time_df = (\n",
    "    df.groupby(['candidate_id', 'question_number'], as_index=False)\n",
    "      .first() \n",
    "      [['candidate_id', 'question_number', 'question_title', 'question_duration_seconds', \n",
    "        'incident_time_mins', 'auto_score_per_question', 'max_question_score']]\n",
    "      .copy()\n",
    "    )\n",
    "\t\t\n",
    "    return task_time_df"
   ]
  },
  {
   "cell_type": "markdown",
   "id": "c65e39af-b171-4eb8-9929-ff48fc68b243",
   "metadata": {},
   "source": [
    "### convert time student spent on question from seconds to minutes"
   ]
  },
  {
   "cell_type": "code",
   "execution_count": 59,
   "id": "e89ffb12-2248-41bf-801c-37fc8d2ec560",
   "metadata": {},
   "outputs": [],
   "source": [
    "def convert_seconds_to_minutes(df):\n",
    "    df['actual_time_per_questions_mins'] = round(df['question_duration_seconds']/60, 2)\n",
    "    return df"
   ]
  },
  {
   "cell_type": "markdown",
   "id": "99afc1f6-0f05-4ee6-9af5-0ac23ef595fa",
   "metadata": {},
   "source": [
    "### Calculate ideal time per question using proportional time allocation based on weighted scores"
   ]
  },
  {
   "cell_type": "code",
   "execution_count": 60,
   "id": "2d741ab5-0074-4abf-aac4-a422cf979aea",
   "metadata": {},
   "outputs": [],
   "source": [
    "def calculate_ideal_time_per_task(df):\n",
    "    df['expected_time_spent (mins)'] = round(240 * df['max_question_score'] / 100, 2)\n",
    "    return df"
   ]
  },
  {
   "cell_type": "markdown",
   "id": "489f20a6-b4ea-4d1d-a8cf-333473637ccb",
   "metadata": {},
   "source": [
    "### Calculate statistics"
   ]
  },
  {
   "cell_type": "code",
   "execution_count": 61,
   "id": "0b93151c-9521-4279-82b5-1d32dd343605",
   "metadata": {},
   "outputs": [],
   "source": [
    "def calculate_stats(df):\n",
    "    # Ideal time comparison\n",
    "    df['over_ideal_time'] = df['actual_time_per_questions_mins'] - df['expected_time_spent (mins)'].median()\n",
    "    # df['pct_of_ideal_time'] = df['actual_time_per_questions_mins'] / df['expected_time_spent (mins)'] * 100\n",
    "\n",
    "    # Score as percentage\n",
    "    # df['pct_score'] = df['auto_score_per_question'] / df['max_question_score'] * 100\n",
    "\n",
    "    return df\n"
   ]
  },
  {
   "cell_type": "markdown",
   "id": "50103a5d-dfbe-496c-9b9c-9f3a3b00c679",
   "metadata": {},
   "source": [
    "### Visualize and plot data"
   ]
  },
  {
   "cell_type": "code",
   "execution_count": 62,
   "id": "2f063ff1-0541-4c49-8a1b-6976f3204fb2",
   "metadata": {},
   "outputs": [],
   "source": [
    "\n",
    "def plot_expected_vs_actual(df):\n",
    "    \"\"\" Melt a dataframe from wide to long data and plot a grouped barplot of expected vs actual time per question. \"\"\"\n",
    "\n",
    "    grouped_df = df.groupby('question_number').agg({\n",
    "    'expected_time_spent (mins)': 'first',\n",
    "    'actual_time_per_questions_mins': 'mean',\n",
    "    'auto_score_per_question' : 'mean'\n",
    "    }).reset_index()\n",
    "\n",
    "    # Melt the dataframe\n",
    "    melted = pd.melt(\n",
    "        grouped_df,\n",
    "        id_vars='question_number',\n",
    "        value_vars=['expected_time_spent (mins)', 'actual_time_per_questions_mins'],\n",
    "        var_name='Time Type',\n",
    "        value_name='Minutes'\n",
    "    )\n",
    "\n",
    "    # define own colors\n",
    "    colors = ['#6ca6c3', '#82172b']\n",
    "    \n",
    "    # Plot\n",
    "    plt.figure(figsize=(12,6))\n",
    "    sns.barplot(\n",
    "        data=melted,\n",
    "        x='question_number',\n",
    "        y='Minutes',\n",
    "        hue='Time Type',\n",
    "        palette= colors\n",
    "    )\n",
    "    plt.xlabel('Question Number')\n",
    "    plt.ylabel('Time (mins)')\n",
    "    plt.title('Actual Avg Time vs. Expected Time Spent per Question')\n",
    "    plt.legend(title='')\n",
    "    plt.tight_layout()\n",
    "    plt.show()"
   ]
  },
  {
   "cell_type": "code",
   "execution_count": 63,
   "id": "f7eb811f-7aa7-4027-ab3d-7abd19b4bdc2",
   "metadata": {},
   "outputs": [],
   "source": [
    "def plot_over_under_ideal_time(df):\n",
    "    \n",
    "    df.sort_values('over_ideal_time', ascending=False, inplace=True)\n",
    "\n",
    "    plt.figure(figsize=(12,6))\n",
    "    sns.barplot(\n",
    "    data=df,\n",
    "    x='question_number',\n",
    "    y='over_ideal_time',\n",
    "    hue='question_number',\n",
    "    palette='RdBu',\n",
    "    legend=False,\n",
    "    errorbar=None\n",
    "    )\n",
    "\n",
    "    plt.axhline(0, color='black', linestyle='--')\n",
    "    plt.xlabel('Question Number')\n",
    "    plt.ylabel('Minutes Over/Under Ideal')\n",
    "    plt.title('Time Over/Under Ideal per Question')\n",
    "    plt.tight_layout()\n",
    "    plt.show()\n"
   ]
  },
  {
   "cell_type": "markdown",
   "id": "8df51ded-5557-46ac-905d-575d1e4aaba1",
   "metadata": {},
   "source": [
    "### Function to Run the Program"
   ]
  },
  {
   "cell_type": "code",
   "execution_count": 64,
   "id": "ae78fe36-57ac-431f-ae4b-f9f593313a2a",
   "metadata": {},
   "outputs": [],
   "source": [
    "def run_analysis(file_path):\n",
    "\n",
    "    # Read Data\n",
    "    df = read_data(file_path)\n",
    "\n",
    "    # prep and extract data from original df for time per task analysis\n",
    "    task_time_df = prep_time_per_task(df)\n",
    "\n",
    "    # convert time taken per task from second to minutes\n",
    "    task_time_df = convert_seconds_to_minutes(task_time_df)\n",
    "\n",
    "    # calculate ideal time \n",
    "    task_time_df = calculate_ideal_time_per_task(task_time_df)\n",
    "\n",
    "    task_time_df = calculate_stats(task_time_df)\n",
    "\n",
    "    return task_time_df\n"
   ]
  },
  {
   "cell_type": "markdown",
   "id": "1e567def-f6b2-407a-a4ae-55f1e6378ea6",
   "metadata": {},
   "source": [
    "### Export the Processed Analysis File"
   ]
  },
  {
   "cell_type": "code",
   "execution_count": 65,
   "id": "1a8084c8-82bd-463a-ad06-eb05bef36c39",
   "metadata": {},
   "outputs": [],
   "source": [
    "def export_data(df, output_path, file_format='xlsx'):\n",
    "    \"\"\"\n",
    "    Save cleaned data to file \n",
    "    Args:\n",
    "        df (pandas.DataFrame): Cleaned DataFrame\n",
    "        output_path (str): Path to save the file\n",
    "        file_format (str): Format to save ('xlsx', 'csv', 'json')\n",
    "    \"\"\"\n",
    "    try:\n",
    "        if file_format == 'xlsx':\n",
    "            df.to_excel(output_path, index=False)\n",
    "        elif file_format == 'csv':\n",
    "            df.to_csv(output_path, index=False)\n",
    "        elif file_format == 'json':\n",
    "            df.to_json(output_path, orient='records', indent=2)\n",
    "        else:\n",
    "            raise ValueError(f\"Unsupported format: {file_format}\")\n",
    "        \n",
    "        print(f\"Data saved successfully to {output_path}\")\n",
    "    except Exception as e:\n",
    "        print(f\"Error saving data: {e}\")"
   ]
  },
  {
   "cell_type": "code",
   "execution_count": 66,
   "id": "0104bbf1-81d5-4b7f-b5ef-8d60073e3b41",
   "metadata": {},
   "outputs": [],
   "source": [
    "# correlation = task_time_df[['actual_time_per_questions_mins', 'auto_score_per_question']].corr().iloc[0,1]\n",
    "# print(f\"Correlation between time spent and score (all rows): {correlation:.2f}\")"
   ]
  },
  {
   "cell_type": "markdown",
   "id": "a4410440-2d6c-40bc-a142-40b6344bc7b2",
   "metadata": {},
   "source": [
    "### Execute Analysis"
   ]
  },
  {
   "cell_type": "code",
   "execution_count": 67,
   "id": "051b40ee-08fd-4c34-8ee7-aa426e475685",
   "metadata": {},
   "outputs": [],
   "source": [
    "task_time_df = run_analysis(\"data/cleaned_data.xlsx\")"
   ]
  },
  {
   "cell_type": "code",
   "execution_count": 68,
   "id": "ff4163cb-f3f3-4d09-9ff5-4049123e90cf",
   "metadata": {},
   "outputs": [
    {
     "name": "stdout",
     "output_type": "stream",
     "text": [
      "Error saving data: [Errno 13] Permission denied: 'processed data/Time_Per_Question_Analysis_2024.xlsx'\n"
     ]
    }
   ],
   "source": [
    "export_data(task_time_df, 'processed data/Time_Per_Question_Analysis_2024.xlsx', 'xlsx')"
   ]
  },
  {
   "cell_type": "code",
   "execution_count": 69,
   "id": "3d86c3dc-bcc4-47f0-bb4e-9d34a4153c44",
   "metadata": {},
   "outputs": [
    {
     "data": {
      "image/png": "[encoded data removed]",
      "text/plain": [
       "<Figure size 1200x600 with 1 Axes>"
      ]
     },
     "metadata": {},
     "output_type": "display_data"
    }
   ],
   "source": [
    "plot_expected_vs_actual(task_time_df)"
   ]
  },
  {
   "cell_type": "code",
   "execution_count": 70,
   "id": "38ba7970-e9dc-41d4-a232-2a9666dc49a3",
   "metadata": {},
   "outputs": [
    {
     "data": {
      "image/png": "[encoded data removed]",
      "text/plain": [
       "<Figure size 1200x600 with 1 Axes>"
      ]
     },
     "metadata": {},
     "output_type": "display_data"
    }
   ],
   "source": [
    "plot_over_under_ideal_time(task_time_df)"
   ]
  },
  {
   "cell_type": "code",
   "execution_count": 71,
   "id": "2e6542bf-40de-474e-a2d9-0293f5a086ca",
   "metadata": {},
   "outputs": [],
   "source": [
    "# Assuming 'question_id' identifies each question\n",
    "question_stats = task_time_df.groupby('question_number').agg({\n",
    "    'actual_time_per_questions_mins': ['mean', 'std', 'median'],\n",
    "    'expected_time_spent (mins)': 'first'  # expected time is same for all students per question\n",
    "})\n",
    "question_stats.columns = ['mean_actual', 'std_actual', 'median_actual', 'expected']\n"
   ]
  },
  {
   "cell_type": "code",
   "execution_count": 72,
   "id": "dff209c1-9df3-4cfe-a8c5-a71b6b059a37",
   "metadata": {},
   "outputs": [
    {
     "data": {
      "text/html": [
       "<div>\n",
       "<style scoped>\n",
       "    .dataframe tbody tr th:only-of-type {\n",
       "        vertical-align: middle;\n",
       "    }\n",
       "\n",
       "    .dataframe tbody tr th {\n",
       "        vertical-align: top;\n",
       "    }\n",
       "\n",
       "    .dataframe thead th {\n",
       "        text-align: right;\n",
       "    }\n",
       "</style>\n",
       "<table border=\"1\" class=\"dataframe\">\n",
       "  <thead>\n",
       "    <tr style=\"text-align: right;\">\n",
       "      <th></th>\n",
       "      <th>mean_actual</th>\n",
       "      <th>std_actual</th>\n",
       "      <th>median_actual</th>\n",
       "      <th>expected</th>\n",
       "    </tr>\n",
       "    <tr>\n",
       "      <th>question_number</th>\n",
       "      <th></th>\n",
       "      <th></th>\n",
       "      <th></th>\n",
       "      <th></th>\n",
       "    </tr>\n",
       "  </thead>\n",
       "  <tbody>\n",
       "    <tr>\n",
       "      <th>1.1</th>\n",
       "      <td>2.747206</td>\n",
       "      <td>2.213643</td>\n",
       "      <td>2.18</td>\n",
       "      <td>5.76</td>\n",
       "    </tr>\n",
       "    <tr>\n",
       "      <th>1.2</th>\n",
       "      <td>5.117329</td>\n",
       "      <td>3.684011</td>\n",
       "      <td>4.08</td>\n",
       "      <td>7.20</td>\n",
       "    </tr>\n",
       "    <tr>\n",
       "      <th>1.3</th>\n",
       "      <td>14.424569</td>\n",
       "      <td>9.591685</td>\n",
       "      <td>12.37</td>\n",
       "      <td>9.12</td>\n",
       "    </tr>\n",
       "    <tr>\n",
       "      <th>1.4</th>\n",
       "      <td>2.616151</td>\n",
       "      <td>1.599117</td>\n",
       "      <td>2.20</td>\n",
       "      <td>7.20</td>\n",
       "    </tr>\n",
       "    <tr>\n",
       "      <th>1.5</th>\n",
       "      <td>2.320650</td>\n",
       "      <td>1.740229</td>\n",
       "      <td>1.82</td>\n",
       "      <td>7.20</td>\n",
       "    </tr>\n",
       "    <tr>\n",
       "      <th>1.6</th>\n",
       "      <td>2.598717</td>\n",
       "      <td>1.669852</td>\n",
       "      <td>2.20</td>\n",
       "      <td>7.20</td>\n",
       "    </tr>\n",
       "    <tr>\n",
       "      <th>1.7</th>\n",
       "      <td>3.536397</td>\n",
       "      <td>2.387499</td>\n",
       "      <td>2.85</td>\n",
       "      <td>7.20</td>\n",
       "    </tr>\n",
       "    <tr>\n",
       "      <th>1.8</th>\n",
       "      <td>5.077715</td>\n",
       "      <td>3.860960</td>\n",
       "      <td>3.97</td>\n",
       "      <td>9.12</td>\n",
       "    </tr>\n",
       "    <tr>\n",
       "      <th>2.1</th>\n",
       "      <td>8.929227</td>\n",
       "      <td>7.016564</td>\n",
       "      <td>6.67</td>\n",
       "      <td>12.00</td>\n",
       "    </tr>\n",
       "    <tr>\n",
       "      <th>2.2</th>\n",
       "      <td>10.338682</td>\n",
       "      <td>6.475550</td>\n",
       "      <td>9.37</td>\n",
       "      <td>14.40</td>\n",
       "    </tr>\n",
       "    <tr>\n",
       "      <th>2.3</th>\n",
       "      <td>6.782689</td>\n",
       "      <td>4.543315</td>\n",
       "      <td>5.88</td>\n",
       "      <td>9.60</td>\n",
       "    </tr>\n",
       "    <tr>\n",
       "      <th>2.4</th>\n",
       "      <td>4.333708</td>\n",
       "      <td>3.451843</td>\n",
       "      <td>3.40</td>\n",
       "      <td>7.20</td>\n",
       "    </tr>\n",
       "    <tr>\n",
       "      <th>2.5</th>\n",
       "      <td>18.561740</td>\n",
       "      <td>13.700563</td>\n",
       "      <td>15.17</td>\n",
       "      <td>12.00</td>\n",
       "    </tr>\n",
       "    <tr>\n",
       "      <th>2.6</th>\n",
       "      <td>4.690510</td>\n",
       "      <td>3.042376</td>\n",
       "      <td>3.97</td>\n",
       "      <td>4.80</td>\n",
       "    </tr>\n",
       "    <tr>\n",
       "      <th>3.1</th>\n",
       "      <td>6.164851</td>\n",
       "      <td>4.469493</td>\n",
       "      <td>5.18</td>\n",
       "      <td>7.20</td>\n",
       "    </tr>\n",
       "    <tr>\n",
       "      <th>3.2</th>\n",
       "      <td>2.548471</td>\n",
       "      <td>2.262440</td>\n",
       "      <td>1.85</td>\n",
       "      <td>4.80</td>\n",
       "    </tr>\n",
       "    <tr>\n",
       "      <th>3.3</th>\n",
       "      <td>8.442004</td>\n",
       "      <td>4.710449</td>\n",
       "      <td>7.65</td>\n",
       "      <td>9.60</td>\n",
       "    </tr>\n",
       "    <tr>\n",
       "      <th>3.4</th>\n",
       "      <td>4.998366</td>\n",
       "      <td>3.018312</td>\n",
       "      <td>4.25</td>\n",
       "      <td>7.20</td>\n",
       "    </tr>\n",
       "    <tr>\n",
       "      <th>3.5</th>\n",
       "      <td>8.038928</td>\n",
       "      <td>4.654997</td>\n",
       "      <td>7.37</td>\n",
       "      <td>4.80</td>\n",
       "    </tr>\n",
       "    <tr>\n",
       "      <th>3.6</th>\n",
       "      <td>6.802794</td>\n",
       "      <td>3.796293</td>\n",
       "      <td>6.13</td>\n",
       "      <td>7.20</td>\n",
       "    </tr>\n",
       "    <tr>\n",
       "      <th>3.7</th>\n",
       "      <td>10.233849</td>\n",
       "      <td>4.910937</td>\n",
       "      <td>9.65</td>\n",
       "      <td>9.60</td>\n",
       "    </tr>\n",
       "    <tr>\n",
       "      <th>3.8</th>\n",
       "      <td>5.672601</td>\n",
       "      <td>3.100701</td>\n",
       "      <td>5.07</td>\n",
       "      <td>9.60</td>\n",
       "    </tr>\n",
       "    <tr>\n",
       "      <th>4.1</th>\n",
       "      <td>8.053199</td>\n",
       "      <td>5.122742</td>\n",
       "      <td>7.13</td>\n",
       "      <td>9.60</td>\n",
       "    </tr>\n",
       "    <tr>\n",
       "      <th>4.2</th>\n",
       "      <td>4.456081</td>\n",
       "      <td>2.927784</td>\n",
       "      <td>3.75</td>\n",
       "      <td>7.20</td>\n",
       "    </tr>\n",
       "    <tr>\n",
       "      <th>4.3</th>\n",
       "      <td>4.248981</td>\n",
       "      <td>3.855914</td>\n",
       "      <td>2.93</td>\n",
       "      <td>7.20</td>\n",
       "    </tr>\n",
       "    <tr>\n",
       "      <th>4.4</th>\n",
       "      <td>7.380088</td>\n",
       "      <td>6.216708</td>\n",
       "      <td>5.37</td>\n",
       "      <td>9.60</td>\n",
       "    </tr>\n",
       "    <tr>\n",
       "      <th>4.5</th>\n",
       "      <td>12.082004</td>\n",
       "      <td>7.500024</td>\n",
       "      <td>10.53</td>\n",
       "      <td>14.40</td>\n",
       "    </tr>\n",
       "    <tr>\n",
       "      <th>4.6</th>\n",
       "      <td>6.973638</td>\n",
       "      <td>4.283810</td>\n",
       "      <td>6.08</td>\n",
       "      <td>4.80</td>\n",
       "    </tr>\n",
       "    <tr>\n",
       "      <th>4.7</th>\n",
       "      <td>4.403392</td>\n",
       "      <td>3.422788</td>\n",
       "      <td>3.65</td>\n",
       "      <td>2.40</td>\n",
       "    </tr>\n",
       "    <tr>\n",
       "      <th>4.8</th>\n",
       "      <td>2.172566</td>\n",
       "      <td>1.939595</td>\n",
       "      <td>1.57</td>\n",
       "      <td>4.80</td>\n",
       "    </tr>\n",
       "  </tbody>\n",
       "</table>\n",
       "</div>"
      ],
      "text/plain": [
       "                 mean_actual  std_actual  median_actual  expected\n",
       "question_number                                                  \n",
       "1.1                 2.747206    2.213643           2.18      5.76\n",
       "1.2                 5.117329    3.684011           4.08      7.20\n",
       "1.3                14.424569    9.591685          12.37      9.12\n",
       "1.4                 2.616151    1.599117           2.20      7.20\n",
       "1.5                 2.320650    1.740229           1.82      7.20\n",
       "1.6                 2.598717    1.669852           2.20      7.20\n",
       "1.7                 3.536397    2.387499           2.85      7.20\n",
       "1.8                 5.077715    3.860960           3.97      9.12\n",
       "2.1                 8.929227    7.016564           6.67     12.00\n",
       "2.2                10.338682    6.475550           9.37     14.40\n",
       "2.3                 6.782689    4.543315           5.88      9.60\n",
       "2.4                 4.333708    3.451843           3.40      7.20\n",
       "2.5                18.561740   13.700563          15.17     12.00\n",
       "2.6                 4.690510    3.042376           3.97      4.80\n",
       "3.1                 6.164851    4.469493           5.18      7.20\n",
       "3.2                 2.548471    2.262440           1.85      4.80\n",
       "3.3                 8.442004    4.710449           7.65      9.60\n",
       "3.4                 4.998366    3.018312           4.25      7.20\n",
       "3.5                 8.038928    4.654997           7.37      4.80\n",
       "3.6                 6.802794    3.796293           6.13      7.20\n",
       "3.7                10.233849    4.910937           9.65      9.60\n",
       "3.8                 5.672601    3.100701           5.07      9.60\n",
       "4.1                 8.053199    5.122742           7.13      9.60\n",
       "4.2                 4.456081    2.927784           3.75      7.20\n",
       "4.3                 4.248981    3.855914           2.93      7.20\n",
       "4.4                 7.380088    6.216708           5.37      9.60\n",
       "4.5                12.082004    7.500024          10.53     14.40\n",
       "4.6                 6.973638    4.283810           6.08      4.80\n",
       "4.7                 4.403392    3.422788           3.65      2.40\n",
       "4.8                 2.172566    1.939595           1.57      4.80"
      ]
     },
     "execution_count": 72,
     "metadata": {},
     "output_type": "execute_result"
    }
   ],
   "source": [
    "question_stats"
   ]
  },
  {
   "cell_type": "code",
   "execution_count": null,
   "id": "40a85ee6-0623-4d90-b105-cc6bd0000fe8",
   "metadata": {},
   "outputs": [],
   "source": []
  }
 ],
 "metadata": {
  "kernelspec": {
   "display_name": "Python 3 (ipykernel)",
   "language": "python",
   "name": "python3"
  },
  "language_info": {
   "codemirror_mode": {
    "name": "ipython",
    "version": 3
   },
   "file_extension": ".py",
   "mimetype": "text/x-python",
   "name": "python",
   "nbconvert_exporter": "python",
   "pygments_lexer": "ipython3",
   "version": "3.12.11"
  }
 },
 "nbformat": 4,
 "nbformat_minor": 5
}
