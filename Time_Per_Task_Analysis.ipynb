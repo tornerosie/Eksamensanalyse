{
 "cells": [
  {
   "cell_type": "code",
   "execution_count": null,
   "id": "19b7e774-f48a-406e-8951-84125d97651d",
   "metadata": {},
   "outputs": [],
   "source": [
    "import pandas as pd\n",
    "import numpy as np\n",
    "import matplotlib.pyplot as plt\n",
    "import seaborn as sns"
   ]
  },
  {
   "cell_type": "code",
   "execution_count": null,
   "id": "77d8266a-58c7-4427-8472-f5245fe50d18",
   "metadata": {},
   "outputs": [],
   "source": [
    "def read_data(file_path):\n",
    "    '''Read Excel File'''\n",
    "    \n",
    "    df = pd.read_excel(file_path, engine = 'openpyxl')\n",
    "\n",
    "    return df"
   ]
  },
  {
   "cell_type": "code",
   "execution_count": null,
   "id": "f8d16d39-f039-423f-98a8-bb741b47b045",
   "metadata": {},
   "outputs": [],
   "source": [
    "def prep_time_per_task(df):\n",
    "    '''Extract time relevant data for each student per question and create new df'''\n",
    "       \n",
    "    task_time_df = df.groupby('candidate_id', as_index=False).first()[\n",
    "    ['candidate_id', 'question_number', 'question_title', 'question_duration_seconds', 'incident_time_mins', 'auto_score_per_question', 'max_question_score']\n",
    "    ]\n",
    "\t\t\n",
    "    return task_time_df"
   ]
  },
  {
   "cell_type": "markdown",
   "id": "7a4ffe31-d5e6-4ef9-b38e-931a55897290",
   "metadata": {},
   "source": [
    "### Execution"
   ]
  },
  {
   "cell_type": "code",
   "execution_count": null,
   "id": "5f616bde-e315-4f30-b82e-41d08b8c14b9",
   "metadata": {},
   "outputs": [],
   "source": [
    "df = read_data(\"data/cleaned_data.xlsx\")\n",
    "df.head()"
   ]
  },
  {
   "cell_type": "code",
   "execution_count": null,
   "id": "83c8a622-c257-41dc-8ade-73c39109e792",
   "metadata": {},
   "outputs": [],
   "source": [
    "task_time_df = prep_time_per_task(df)\n",
    "task_time_df.head()"
   ]
  },
  {
   "cell_type": "code",
   "execution_count": null,
   "id": "65d1cfe4-559e-483b-91a1-61f71f68a51c",
   "metadata": {},
   "outputs": [],
   "source": []
  }
 ],
 "metadata": {
  "kernelspec": {
   "display_name": "Python 3 (ipykernel)",
   "language": "python",
   "name": "python3"
  },
  "language_info": {
   "codemirror_mode": {
    "name": "ipython",
    "version": 3
   },
   "file_extension": ".py",
   "mimetype": "text/x-python",
   "name": "python",
   "nbconvert_exporter": "python",
   "pygments_lexer": "ipython3",
   "version": "3.12.11"
  }
 },
 "nbformat": 4,
 "nbformat_minor": 5
}
