{
 "cells": [
  {
   "cell_type": "code",
   "execution_count": 163,
   "id": "f1b6015b-d974-441e-a7ce-15d77cc5fba7",
   "metadata": {},
   "outputs": [],
   "source": [
    "import pandas as pd"
   ]
  },
  {
   "cell_type": "code",
   "execution_count": 164,
   "id": "d968b91d-a6f9-456c-825c-0dc0dc29798a",
   "metadata": {},
   "outputs": [],
   "source": [
    "df = pd.read_excel(\"Eksamen-2024/Final2024.xlsx\", engine = 'openpyxl', skiprows=1) #installere conda install openpyxl i terminalen "
   ]
  },
  {
   "cell_type": "code",
   "execution_count": 165,
   "id": "b950fae4-0d72-4358-9b86-d90150746536",
   "metadata": {},
   "outputs": [
    {
     "data": {
      "text/html": [
       "<div>\n",
       "<style scoped>\n",
       "    .dataframe tbody tr th:only-of-type {\n",
       "        vertical-align: middle;\n",
       "    }\n",
       "\n",
       "    .dataframe tbody tr th {\n",
       "        vertical-align: top;\n",
       "    }\n",
       "\n",
       "    .dataframe thead th {\n",
       "        text-align: right;\n",
       "    }\n",
       "</style>\n",
       "<table border=\"1\" class=\"dataframe\">\n",
       "  <thead>\n",
       "    <tr style=\"text-align: right;\">\n",
       "      <th></th>\n",
       "      <th>Kandidatnr</th>\n",
       "      <th>1.1 tallsystem</th>\n",
       "      <th>1.2 Sortering</th>\n",
       "      <th>1.3 ASCII hullbånd</th>\n",
       "      <th>1.4 oblig</th>\n",
       "      <th>1.5 hvilken likning</th>\n",
       "      <th>1.6 virker koden</th>\n",
       "      <th>1.7 hva blir printet</th>\n",
       "      <th>1.8 programflyt</th>\n",
       "      <th>2.1</th>\n",
       "      <th>...</th>\n",
       "      <th>3.8</th>\n",
       "      <th>4.1</th>\n",
       "      <th>4.2</th>\n",
       "      <th>4.3</th>\n",
       "      <th>4.4</th>\n",
       "      <th>4.5</th>\n",
       "      <th>4.6</th>\n",
       "      <th>4.7</th>\n",
       "      <th>4.8</th>\n",
       "      <th>Grand Total</th>\n",
       "    </tr>\n",
       "  </thead>\n",
       "  <tbody>\n",
       "    <tr>\n",
       "      <th>0</th>\n",
       "      <td>1</td>\n",
       "      <td>2.4</td>\n",
       "      <td>3.0</td>\n",
       "      <td>1.9</td>\n",
       "      <td>3</td>\n",
       "      <td>3</td>\n",
       "      <td>0</td>\n",
       "      <td>3</td>\n",
       "      <td>3.8</td>\n",
       "      <td>5</td>\n",
       "      <td>...</td>\n",
       "      <td>4.00</td>\n",
       "      <td>3.0</td>\n",
       "      <td>3</td>\n",
       "      <td>3</td>\n",
       "      <td>4</td>\n",
       "      <td>6</td>\n",
       "      <td>1.5</td>\n",
       "      <td>1</td>\n",
       "      <td>2</td>\n",
       "      <td>89.74</td>\n",
       "    </tr>\n",
       "    <tr>\n",
       "      <th>1</th>\n",
       "      <td>2</td>\n",
       "      <td>2.1</td>\n",
       "      <td>3.0</td>\n",
       "      <td>2.5</td>\n",
       "      <td>0</td>\n",
       "      <td>3</td>\n",
       "      <td>3</td>\n",
       "      <td>3</td>\n",
       "      <td>1.8</td>\n",
       "      <td>3</td>\n",
       "      <td>...</td>\n",
       "      <td>3.00</td>\n",
       "      <td>1.0</td>\n",
       "      <td>2</td>\n",
       "      <td>3</td>\n",
       "      <td>4</td>\n",
       "      <td>6</td>\n",
       "      <td>1.0</td>\n",
       "      <td>0</td>\n",
       "      <td>2</td>\n",
       "      <td>70.88</td>\n",
       "    </tr>\n",
       "    <tr>\n",
       "      <th>2</th>\n",
       "      <td>3</td>\n",
       "      <td>0.9</td>\n",
       "      <td>0.0</td>\n",
       "      <td>0.0</td>\n",
       "      <td>0</td>\n",
       "      <td>0</td>\n",
       "      <td>0</td>\n",
       "      <td>0</td>\n",
       "      <td>0.0</td>\n",
       "      <td>4</td>\n",
       "      <td>...</td>\n",
       "      <td>3.25</td>\n",
       "      <td>4.0</td>\n",
       "      <td>2</td>\n",
       "      <td>0</td>\n",
       "      <td>0</td>\n",
       "      <td>0</td>\n",
       "      <td>1.0</td>\n",
       "      <td>0</td>\n",
       "      <td>1</td>\n",
       "      <td>37.64</td>\n",
       "    </tr>\n",
       "    <tr>\n",
       "      <th>3</th>\n",
       "      <td>4</td>\n",
       "      <td>2.4</td>\n",
       "      <td>3.0</td>\n",
       "      <td>1.9</td>\n",
       "      <td>3</td>\n",
       "      <td>3</td>\n",
       "      <td>3</td>\n",
       "      <td>3</td>\n",
       "      <td>1.8</td>\n",
       "      <td>5</td>\n",
       "      <td>...</td>\n",
       "      <td>3.50</td>\n",
       "      <td>2.5</td>\n",
       "      <td>1</td>\n",
       "      <td>3</td>\n",
       "      <td>4</td>\n",
       "      <td>0</td>\n",
       "      <td>0.5</td>\n",
       "      <td>0</td>\n",
       "      <td>0</td>\n",
       "      <td>76.81</td>\n",
       "    </tr>\n",
       "    <tr>\n",
       "      <th>4</th>\n",
       "      <td>5</td>\n",
       "      <td>2.4</td>\n",
       "      <td>0.0</td>\n",
       "      <td>0.0</td>\n",
       "      <td>0</td>\n",
       "      <td>0</td>\n",
       "      <td>0</td>\n",
       "      <td>0</td>\n",
       "      <td>1.8</td>\n",
       "      <td>0</td>\n",
       "      <td>...</td>\n",
       "      <td>3.50</td>\n",
       "      <td>1.0</td>\n",
       "      <td>2</td>\n",
       "      <td>0</td>\n",
       "      <td>0</td>\n",
       "      <td>0</td>\n",
       "      <td>0.5</td>\n",
       "      <td>0</td>\n",
       "      <td>2</td>\n",
       "      <td>35.71</td>\n",
       "    </tr>\n",
       "  </tbody>\n",
       "</table>\n",
       "<p>5 rows × 32 columns</p>\n",
       "</div>"
      ],
      "text/plain": [
       "   Kandidatnr  1.1 tallsystem  1.2 Sortering  1.3 ASCII hullbånd  1.4 oblig  \\\n",
       "0           1             2.4            3.0                 1.9          3   \n",
       "1           2             2.1            3.0                 2.5          0   \n",
       "2           3             0.9            0.0                 0.0          0   \n",
       "3           4             2.4            3.0                 1.9          3   \n",
       "4           5             2.4            0.0                 0.0          0   \n",
       "\n",
       "   1.5 hvilken likning  1.6 virker koden  1.7 hva blir printet  \\\n",
       "0                    3                 0                     3   \n",
       "1                    3                 3                     3   \n",
       "2                    0                 0                     0   \n",
       "3                    3                 3                     3   \n",
       "4                    0                 0                     0   \n",
       "\n",
       "   1.8 programflyt  2.1  ...   3.8  4.1  4.2  4.3  4.4  4.5  4.6  4.7  4.8  \\\n",
       "0              3.8    5  ...  4.00  3.0    3    3    4    6  1.5    1    2   \n",
       "1              1.8    3  ...  3.00  1.0    2    3    4    6  1.0    0    2   \n",
       "2              0.0    4  ...  3.25  4.0    2    0    0    0  1.0    0    1   \n",
       "3              1.8    5  ...  3.50  2.5    1    3    4    0  0.5    0    0   \n",
       "4              1.8    0  ...  3.50  1.0    2    0    0    0  0.5    0    2   \n",
       "\n",
       "   Grand Total  \n",
       "0        89.74  \n",
       "1        70.88  \n",
       "2        37.64  \n",
       "3        76.81  \n",
       "4        35.71  \n",
       "\n",
       "[5 rows x 32 columns]"
      ]
     },
     "execution_count": 165,
     "metadata": {},
     "output_type": "execute_result"
    }
   ],
   "source": [
    "\n",
    "df.head()"
   ]
  },
  {
   "cell_type": "code",
   "execution_count": 166,
   "id": "3b156282-3450-4cb5-a626-db6411259d3d",
   "metadata": {},
   "outputs": [
    {
     "data": {
      "text/plain": [
       "np.int64(569)"
      ]
     },
     "execution_count": 166,
     "metadata": {},
     "output_type": "execute_result"
    }
   ],
   "source": [
    "df['Grand Total'].count() # getting total count of entries "
   ]
  },
  {
   "cell_type": "code",
   "execution_count": 167,
   "id": "12435f02-38e6-41b0-a5e1-dd1b8f2f17ef",
   "metadata": {},
   "outputs": [],
   "source": [
    "# Creating bins and labels to divide grand total into grade segements\n",
    "score_groups = [0, 40, 46, 58, 77, 92, 100]\n",
    "grade_labels =['F', 'E', 'D', 'C', 'B', 'A'] "
   ]
  },
  {
   "cell_type": "code",
   "execution_count": 168,
   "id": "64dba861-0f57-4dd0-b0bb-fc33db9c436a",
   "metadata": {},
   "outputs": [
    {
     "data": {
      "text/plain": [
       "0      B\n",
       "1      C\n",
       "2      F\n",
       "3      C\n",
       "4      F\n",
       "      ..\n",
       "564    C\n",
       "565    C\n",
       "566    C\n",
       "567    C\n",
       "568    D\n",
       "Name: Grand Total, Length: 569, dtype: category\n",
       "Categories (6, object): ['F' < 'E' < 'D' < 'C' < 'B' < 'A']"
      ]
     },
     "execution_count": 168,
     "metadata": {},
     "output_type": "execute_result"
    }
   ],
   "source": [
    "pd.cut(df['Grand Total'], bins = score_groups, labels = grade_labels)"
   ]
  },
  {
   "cell_type": "code",
   "execution_count": 169,
   "id": "471ab445-8287-46d8-b9fe-e80ecbfdbec6",
   "metadata": {},
   "outputs": [],
   "source": [
    "# create a new column for grades\n",
    "df['Grade'] = pd.cut(df['Grand Total'], bins = score_groups, labels = grade_labels) "
   ]
  },
  {
   "cell_type": "code",
   "execution_count": 170,
   "id": "40bb842e-5774-4303-992e-0e98bfd868d3",
   "metadata": {},
   "outputs": [
    {
     "data": {
      "text/plain": [
       "0      B\n",
       "1      C\n",
       "2      F\n",
       "3      C\n",
       "4      F\n",
       "      ..\n",
       "564    C\n",
       "565    C\n",
       "566    C\n",
       "567    C\n",
       "568    D\n",
       "Name: Grade, Length: 569, dtype: category\n",
       "Categories (6, object): ['F' < 'E' < 'D' < 'C' < 'B' < 'A']"
      ]
     },
     "execution_count": 170,
     "metadata": {},
     "output_type": "execute_result"
    }
   ],
   "source": [
    "df['Grade'] # see the new column"
   ]
  },
  {
   "cell_type": "code",
   "execution_count": 171,
   "id": "77380855-ae22-4402-972a-b8b6f56f6aa8",
   "metadata": {},
   "outputs": [
    {
     "data": {
      "text/plain": [
       "Grade\n",
       "C    271\n",
       "B    173\n",
       "D     76\n",
       "F     24\n",
       "E     19\n",
       "A      6\n",
       "Name: count, dtype: int64"
      ]
     },
     "execution_count": 171,
     "metadata": {},
     "output_type": "execute_result"
    }
   ],
   "source": [
    "# counting number of items (students) per grade\n",
    "df['Grade'].value_counts()"
   ]
  },
  {
   "cell_type": "code",
   "execution_count": 172,
   "id": "17768b02-ce5b-4d4e-af84-b7f4bb89278c",
   "metadata": {},
   "outputs": [
    {
     "data": {
      "text/plain": [
       "26.299999999999997"
      ]
     },
     "execution_count": 172,
     "metadata": {},
     "output_type": "execute_result"
    }
   ],
   "source": [
    "df['Grand Total'].min()"
   ]
  },
  {
   "cell_type": "code",
   "execution_count": 173,
   "id": "2368d3a6-768e-41b1-9003-0f39f1e9c409",
   "metadata": {},
   "outputs": [
    {
     "name": "stdout",
     "output_type": "stream",
     "text": [
      "Lowest score with grade E: 40.12\n"
     ]
    }
   ],
   "source": [
    "# Filter rows where grade is E\n",
    "students_with_e = df[df['Grade'] == 'E']\n",
    "\n",
    "# Get the lowest Grand Total among those\n",
    "lowest_e_score = students_with_e['Grand Total'].min()\n",
    "\n",
    "print(\"Lowest score with grade E:\", lowest_e_score)"
   ]
  },
  {
   "cell_type": "code",
   "execution_count": 174,
   "id": "45b25527-8f87-4b42-bc34-682e5169d1d7",
   "metadata": {},
   "outputs": [
    {
     "name": "stdout",
     "output_type": "stream",
     "text": [
      "Highest score with grade B: 91.99000000000001\n"
     ]
    }
   ],
   "source": [
    "#Filder row where grade is B\n",
    "students_with_b = df[df['Grade'] == 'B']\n",
    "\n",
    "#get highest grand total \n",
    "highest_b_score = students_with_b['Grand Total'].max()\n",
    "\n",
    "print(\"Highest score with grade B:\", highest_b_score)"
   ]
  },
  {
   "cell_type": "markdown",
   "id": "5eb2a319-a066-4b5d-9f9b-2d441f1d68ef",
   "metadata": {},
   "source": [
    "#### Finding outliers Steps \n",
    "1- Clean data from duplicates values and take only unique value that occur once.  \n",
    "\n",
    "2- sort them in ascending order from min to max value. \n",
    "\n",
    "3- Calculate Median\n",
    "\n",
    "4- Calculate Mean\n",
    "\n",
    "5-Finding outliers using IQR "
   ]
  },
  {
   "cell_type": "code",
   "execution_count": 178,
   "id": "12ed2e6e-d39f-4748-aa26-46f91dc30af6",
   "metadata": {},
   "outputs": [
    {
     "name": "stdout",
     "output_type": "stream",
     "text": [
      "final_scores_sorted[26.3, 28.28, 29.7, 30.24, 30.25, 31.13, 32.56, 32.61, 32.78, 33.82, 34.13, 35.09, 35.23, 35.71, 35.89, 36.01, 37.08, 37.59, 37.64, 37.77, 38.03, 38.22, 38.83, 39.22, 40.12, 40.39, 40.65, 40.75, 40.77, 40.88, 41.13, 41.43, 42.35, 42.5, 43.19, 43.24, 43.85, 43.87, 44.15, 44.24, 45.61, 45.68, 45.8, 46.01, 46.15, 46.52, 46.74, 46.9, 46.97, 47.09, 47.51, 47.52, 47.57, 47.73, 47.75, 48.05, 48.08, 48.1, 48.28, 48.4, 48.43, 48.71, 48.72, 48.73, 48.89, 49.43, 49.63, 49.75, 49.86, 50.11, 50.17, 50.38, 50.51, 50.62, 50.84, 51.07, 51.19, 51.4, 51.62, 51.66, 51.74, 52.48, 52.7, 52.78, 52.85, 52.86, 53.6, 53.67, 53.75, 54.08, 54.42, 54.43, 54.48, 54.49, 54.58, 54.64, 54.93, 55.14, 55.16, 55.25, 55.33, 55.71, 56.15, 56.22, 56.41, 56.58, 56.65, 56.71, 56.73, 56.99, 57.2, 57.31, 57.4, 57.59, 57.67, 57.75, 57.82, 58.01, 58.06, 58.13, 58.18, 58.25, 58.28, 58.57, 58.75, 58.82, 58.86, 58.93, 59.03, 59.12, 59.23, 59.26, 59.38, 59.46, 59.53, 59.65, 59.68, 59.7, 59.75, 59.98, 59.99, 60.0, 60.1, 60.11, 60.24, 60.25, 60.33, 60.37, 60.38, 60.41, 60.45, 60.5, 60.68, 60.75, 60.85, 60.97, 61.09, 61.26, 61.3, 61.33, 61.35, 61.57, 62.01, 62.03, 62.31, 62.33, 62.35, 62.55, 62.56, 62.66, 62.85, 63.13, 63.18, 63.23, 63.24, 63.26, 63.49, 63.61, 63.66, 63.68, 63.69, 63.7, 63.73, 63.78, 63.83, 63.91, 64.05, 64.08, 64.25, 64.5, 64.53, 64.65, 64.72, 64.73, 64.91, 64.93, 65.03, 65.09, 65.31, 65.33, 65.53, 65.66, 65.78, 65.8, 65.93, 66.0, 66.06, 66.18, 66.24, 66.34, 66.43, 66.48, 66.63, 66.76, 66.91, 66.96, 67.03, 67.04, 67.2, 67.23, 67.31, 67.38, 67.39, 67.4, 67.56, 67.58, 67.59, 67.83, 67.86, 67.88, 67.95, 67.99, 68.17, 68.23, 68.26, 68.33, 68.4, 68.43, 68.44, 68.56, 68.6, 68.66, 68.71, 68.73, 68.91, 68.98, 69.13, 69.19, 69.43, 69.61, 69.69, 69.91, 70.05, 70.06, 70.11, 70.15, 70.16, 70.21, 70.25, 70.41, 70.43, 70.56, 70.63, 70.67, 70.81, 70.85, 70.86, 70.88, 70.93, 70.98, 71.0, 71.03, 71.06, 71.1, 71.11, 71.2, 71.26, 71.48, 71.6, 71.7, 71.76, 71.83, 71.91, 71.94, 72.01, 72.03, 72.06, 72.16, 72.23, 72.41, 72.56, 72.6, 72.66, 72.89, 72.91, 72.98, 73.13, 73.15, 73.16, 73.19, 73.28, 73.31, 73.33, 73.53, 73.56, 73.58, 73.73, 73.76, 73.86, 73.87, 73.9, 74.08, 74.16, 74.18, 74.23, 74.35, 74.48, 74.71, 74.8, 74.83, 74.91, 75.06, 75.09, 75.13, 75.18, 75.23, 75.25, 75.33, 75.35, 75.38, 75.39, 75.41, 75.45, 75.51, 75.58, 75.6, 75.66, 75.68, 75.71, 75.75, 75.79, 75.82, 75.83, 75.88, 75.89, 76.01, 76.1, 76.11, 76.16, 76.31, 76.34, 76.46, 76.56, 76.59, 76.6, 76.76, 76.81, 76.91, 76.92, 76.93, 76.98, 77.01, 77.06, 77.08, 77.16, 77.18, 77.26, 77.4, 77.41, 77.43, 77.51, 77.53, 77.58, 77.59, 77.63, 77.83, 77.91, 77.93, 78.0, 78.01, 78.06, 78.13, 78.18, 78.23, 78.24, 78.26, 78.39, 78.41, 78.43, 78.52, 78.67, 78.84, 79.0, 79.16, 79.23, 79.33, 79.36, 79.56, 79.59, 79.7, 79.74, 79.83, 79.85, 80.08, 80.13, 80.21, 80.27, 80.31, 80.49, 80.51, 80.66, 80.68, 80.74, 80.76, 80.88, 80.91, 81.0, 81.21, 81.24, 81.25, 81.31, 81.39, 81.41, 81.71, 81.76, 81.8, 81.88, 82.03, 82.05, 82.06, 82.08, 82.11, 82.16, 82.33, 82.36, 82.41, 82.43, 82.66, 82.68, 82.73, 82.76, 82.92, 83.1, 83.16, 83.34, 83.44, 83.56, 83.58, 83.81, 83.91, 83.99, 84.04, 84.06, 84.1, 84.13, 84.34, 84.35, 84.39, 84.48, 84.49, 84.5, 84.51, 84.57, 84.66, 84.81, 84.85, 84.99, 85.01, 85.25, 85.39, 85.54, 85.6, 85.85, 85.89, 85.98, 86.2, 86.25, 86.5, 86.64, 86.76, 86.91, 87.16, 87.49, 87.5, 87.66, 87.9, 88.06, 88.19, 88.26, 88.39, 88.59, 88.74, 88.84, 88.91, 89.08, 89.16, 89.24, 89.3, 89.41, 89.5, 89.6, 89.74, 90.09, 90.33, 90.48, 90.5, 90.76, 90.85, 90.94, 90.99, 91.49, 91.99, 92.35, 92.39, 92.41, 92.85, 93.24, 95.85]\n"
     ]
    }
   ],
   "source": [
    "#Finding outliers steps \n",
    "\n",
    "# Obtain unqiue scores and convert dataframes to list\n",
    "final_scores= df['Grand Total'].unique().tolist() \n",
    "\n",
    "# First step: Sort the list in ascending order and round two digits after decimal point.\n",
    "final_scores_list = [round(score,2) for score in final_scores]\n",
    "\n",
    "# Sort in ascending order, remove duplicates using set to find unique values occur only once. \n",
    "final_scores_sorted= list(sorted(set(final_scores_sorted)))\n",
    "\n",
    "print(f\"final_scores_sorted{final_scores_sorted}\")"
   ]
  },
  {
   "cell_type": "code",
   "execution_count": 192,
   "id": "ec63fad7-6d36-419b-8734-1fd87ee5f69e",
   "metadata": {},
   "outputs": [
    {
     "name": "stdout",
     "output_type": "stream",
     "text": [
      "total items in the list = 518\n",
      "259 260\n",
      "Median index is 105.625\n",
      "Median = 56.58\n",
      "70.41 70.43\n"
     ]
    }
   ],
   "source": [
    "# Second step calculate median\n",
    "\n",
    "# Count total number of item in our list after cleaning\n",
    "total_scores = len(final_scores_sorted)\n",
    "print(f\"total items in the list = {total_scores}\")\n",
    "\n",
    "# Given 518 is even number we follow the rule of finding median for even numbers. \n",
    "N1_indx = int(total_scores/2)\n",
    "N2_indx = int(total_scores/2 + 1)\n",
    "print(N1_indx, N2_indx)\n",
    "\n",
    "# calculate our median index\n",
    "avg_of_N1_and_N2 = (final_scores_sorted[N1_indx] + final_scores_sorted[N2_indx] / 2)\n",
    "print(f\"Median index is {avg_of_N1_and_N2}\")\n",
    "\n",
    "# get the median \n",
    "print(f\"Median = {final_scores_sorted[105]}\")\n",
    "print(final_scores_sorted[N1_indx], final_scores_sorted[N2_indx])\n"
   ]
  },
  {
   "cell_type": "code",
   "execution_count": 191,
   "id": "2ce3eb79-6d62-4982-af1b-b73740add107",
   "metadata": {},
   "outputs": [
    {
     "name": "stdout",
     "output_type": "stream",
     "text": [
      "mean = 68.02\n"
     ]
    }
   ],
   "source": [
    "# calcaulting the mean (avg) and round it to 2 decimal digits.\n",
    "mean = round(sum(final_scores_sorted)/total_scores, 2) \n",
    "print(f\"mean = {mean}\")"
   ]
  },
  {
   "cell_type": "markdown",
   "id": "f15fc8b4-c1b8-4c6a-991c-b73fcd951e67",
   "metadata": {},
   "source": [
    "Comment: Given that mean > median this indicate our data is right skewed \n",
    "where mean (68.02) - median (56.58) = 11.44 points.  \n",
    "However  given that this is analysis of overall  exam scores for all student, and g mean can be affected by outlieres such as a few students who are in range of A grade.\n",
    "Therefore, using median is perfered in this scenrio for fair overall reporting of the data."
   ]
  }
 ],
 "metadata": {
  "kernelspec": {
   "display_name": "Python 3 (ipykernel)",
   "language": "python",
   "name": "python3"
  },
  "language_info": {
   "codemirror_mode": {
    "name": "ipython",
    "version": 3
   },
   "file_extension": ".py",
   "mimetype": "text/x-python",
   "name": "python",
   "nbconvert_exporter": "python",
   "pygments_lexer": "ipython3",
   "version": "3.12.11"
  }
 },
 "nbformat": 4,
 "nbformat_minor": 5
}
