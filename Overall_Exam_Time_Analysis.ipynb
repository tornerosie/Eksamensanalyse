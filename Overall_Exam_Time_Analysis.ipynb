{
 "cells": [
  {
   "cell_type": "markdown",
   "id": "c0c54f92-d2de-40cc-97c7-878c2be7237a",
   "metadata": {},
   "source": [
    "###  This document is Specifically for Overall Exam Time Analysis\n",
    "\n",
    "### Instruction on how to use this document is given right before each section. \n",
    "\n",
    "#### The 3 sections are:\n",
    "#### 1) Execution.\n",
    "#### 2) Exporting Processed File.\n",
    "#### 3) Plot and Visualization."
   ]
  },
  {
   "cell_type": "markdown",
   "id": "2e6ce815-33fe-498a-8c8b-816c59de4fd6",
   "metadata": {},
   "source": [
    "### Import Libraries"
   ]
  },
  {
   "cell_type": "code",
   "execution_count": 37,
   "id": "61cc4b4f-6d12-4378-a93a-bf40417e3e50",
   "metadata": {},
   "outputs": [],
   "source": [
    "import pandas as pd\n",
    "import numpy as np\n",
    "import matplotlib.pyplot as plt\n",
    "import matplotlib.patches as mpatches\n",
    "import matplotlib.lines as mlines\n",
    "import seaborn as sns"
   ]
  },
  {
   "cell_type": "markdown",
   "id": "9c628890-e206-4566-b150-3bfc66e40dde",
   "metadata": {},
   "source": [
    "### Read Data"
   ]
  },
  {
   "cell_type": "code",
   "execution_count": 38,
   "id": "76b616a5-15f5-4703-a3fa-5d7e2948e793",
   "metadata": {},
   "outputs": [],
   "source": [
    "def read_data(file_path):\n",
    "    '''Read Excel File'''\n",
    "    \n",
    "    df = pd.read_excel(file_path, engine = 'openpyxl')\n",
    "\n",
    "    return df"
   ]
  },
  {
   "cell_type": "markdown",
   "id": "6f791734-e919-4de1-8389-5da8139e3379",
   "metadata": {},
   "source": [
    "### Prep and Extract Speific Data for time analysis"
   ]
  },
  {
   "cell_type": "code",
   "execution_count": 39,
   "id": "15bc4ca5-c999-4da0-804a-9f75d9d18744",
   "metadata": {},
   "outputs": [],
   "source": [
    "def prep_total_time_data(df):\n",
    "    '''Extract relevant data for total time analysis and create new df'''\n",
    "   \n",
    "    exam_time_df = df.groupby('candidate_id', as_index=False).first()[\n",
    "    ['candidate_id', 'exam_start_time', 'exam_last_modified_time', 'extra_time_mins', 'incident_time_mins', 'total_score']\n",
    "    ]\n",
    "\n",
    "    return exam_time_df"
   ]
  },
  {
   "cell_type": "markdown",
   "id": "e6c53003-fbc4-4977-8961-c660aacd38d3",
   "metadata": {},
   "source": [
    "### Remove Extra and Incident Time from Last modified time"
   ]
  },
  {
   "cell_type": "code",
   "execution_count": 40,
   "id": "a3c6ab10-c1a4-4222-aefe-30076e97713c",
   "metadata": {},
   "outputs": [],
   "source": [
    "def remove_extra_time(df):\n",
    "    '''Remove extra and incident time from last_modified_time '''\n",
    "    df['last_modified_time_without_extra_time'] = (\n",
    "    df['exam_last_modified_time']\n",
    "    - pd.to_timedelta(df['extra_time_mins'], unit='m')\n",
    "    - pd.to_timedelta(df['incident_time_mins'], unit='m')\n",
    "    )\n",
    "    return df"
   ]
  },
  {
   "cell_type": "markdown",
   "id": "9803e0e0-4692-4666-a23a-5dd657dda29b",
   "metadata": {},
   "source": [
    "### Calculate time usage with extra and incident time"
   ]
  },
  {
   "cell_type": "code",
   "execution_count": 41,
   "id": "89716295-5c9b-424a-8d38-320e22b4e7e0",
   "metadata": {},
   "outputs": [],
   "source": [
    "def calc_time_usage_stats_with_extra(df, max_minutes = 210):\n",
    "    \"\"\"\n",
    "    Calculate and adds time usage columns to the DataFrame (df):\n",
    "      - Brukt_tid: total time used in minutes\n",
    "      - Tid_igjen: remaining time in minutes\n",
    "      - Prosent_brukt: percent of allowed time used\n",
    "    \"\"\"\n",
    "    df = df.copy() \n",
    "    \n",
    "    # Calculate how much time was used (in minutes), rounded to 2 decimal places\n",
    "\n",
    "    df[\"Total_time_used_mins\"] = round((df['exam_last_modified_time'] - df['exam_start_time']).dt.total_seconds() / 60 ,2)\n",
    "\n",
    "    # Calculate how much time was left (maximum allowed minus used), rounded to 2 decimals \n",
    "    df[\"Remaining_time_mins\"] = round(max_minutes - df[\"Total_time_used_mins\"], 2)\n",
    "\n",
    "    # Calculate percentage of allowed time used, rounded to 2 decimals\n",
    "    df[\"%Time_used\"] = round((df[\"Total_time_used_mins\"] / max_minutes) * 100, 2)\n",
    "\n",
    "    \n",
    "    return df"
   ]
  },
  {
   "cell_type": "markdown",
   "id": "c857d98f-0673-4d0c-9870-70d53fdb8c84",
   "metadata": {},
   "source": [
    "### Calculate time usage without extra and incident time"
   ]
  },
  {
   "cell_type": "code",
   "execution_count": 42,
   "id": "91bf691d-ce74-440c-bc1e-9783d75b2bb4",
   "metadata": {},
   "outputs": [],
   "source": [
    "def calc_time_usage_stats_without_extra(df, max_minutes = 210):\n",
    "    \"\"\"\n",
    "    Calculate and adds time usage columns to the DataFrame (df):\n",
    "      - Brukt_tid: total time used in minutes\n",
    "      - Tid_igjen: remaining time in minutes\n",
    "      - Prosent_brukt: percent of allowed time used\n",
    "    \"\"\"\n",
    "    df = df.copy() \n",
    "\n",
    "    # remove extra time which added automatically to last modified time\n",
    "    df = remove_extra_time(df)\n",
    "    # Calculate how much time was used (in minutes), rounded to 2 decimal places\n",
    "     \n",
    "    df[\"Total_time_used_mins_without_extra\"] = round((df['last_modified_time_without_extra_time'] - df['exam_start_time']).dt.total_seconds() / 60 ,2)\n",
    "\n",
    "    # Calculate how much time was left (maximum allowed minus used), rounded to 2 decimals \n",
    "    df[\"Remaining_time_mins_without_extra\"] = round(max_minutes - df[\"Total_time_used_mins_without_extra\"], 2)\n",
    "\n",
    "    # Calculate percentage of allowed time used, rounded to 2 decimals\n",
    "    df[\"%Time_used_without_extra\"] = round((df[\"Total_time_used_mins_without_extra\"] / max_minutes) * 100, 2)\n",
    "\n",
    "    \n",
    "    return df"
   ]
  },
  {
   "cell_type": "markdown",
   "id": "4b1813ed-c53a-470b-afcf-691eb63faf48",
   "metadata": {},
   "source": [
    "### Calculate statistic for boxplotting with extra and incident time"
   ]
  },
  {
   "cell_type": "code",
   "execution_count": 43,
   "id": "de4b780b-81d9-4a64-9785-48507b35ff6c",
   "metadata": {},
   "outputs": [],
   "source": [
    "def calculate_stats_with_extra_time(df):\n",
    "    ''' calulate statsitc value for boxplot'''\n",
    "    q1 = df['Total_time_used_mins'].quantile(0.25)\n",
    "    q2 = df['Total_time_used_mins'].quantile(0.5)  # median\n",
    "    q3 = df['Total_time_used_mins'].quantile(0.75)\n",
    "    iqr = q3 - q1\n",
    "    \n",
    "    # remove outliers from plotbox and stats\n",
    "    lower_bound = q1 - 1.5 * iqr\n",
    "    upper_bound = q3 + 1.5 * iqr\n",
    "\n",
    "    # Detect and remove outliers\n",
    "    clean_df = detected_and_remove_outliers(df, lower_bound, upper_bound)\n",
    "\n",
    "    #calc mean and median\n",
    "    mean = df['Total_time_used_mins'].mean()\n",
    "    median = df['Total_time_used_mins'].median()\n",
    "    \n",
    "\n",
    "    return q1, q2, q3, mean, iqr, clean_df\n"
   ]
  },
  {
   "cell_type": "markdown",
   "id": "fcde6aad-8c4d-476d-b26e-be78f488cbff",
   "metadata": {},
   "source": [
    "### Calculate statistic for boxplotting without extra and incident time"
   ]
  },
  {
   "cell_type": "code",
   "execution_count": 44,
   "id": "b8fa858b-d78a-4c32-b37e-b86ead711c01",
   "metadata": {},
   "outputs": [],
   "source": [
    "def calculate_stats_without_extra_time(df):\n",
    "    ''' calulate statsitc value and remove outliers'''\n",
    "    \n",
    "    q1 = df['Total_time_used_mins_without_extra'].quantile(0.25)\n",
    "    q2 = df['Total_time_used_mins_without_extra'].quantile(0.5)  # median\n",
    "    q3 = df['Total_time_used_mins_without_extra'].quantile(0.75)\n",
    "    iqr = q3 - q1\n",
    "    \n",
    "    # remove outliers from plotbox and stats\n",
    "    lower_bound = q1 - 1.5 * iqr\n",
    "    upper_bound = q3 + 1.5 * iqr\n",
    "\n",
    "    # Detect and remove outliers\n",
    "    clean_df = detected_and_remove_outliers(df, lower_bound, upper_bound)\n",
    "\n",
    "    #calc mean and median\n",
    "    mean = df['Total_time_used_mins_without_extra'].mean()\n",
    "    median = df['Total_time_used_mins_without_extra'].median()    \n",
    "\n",
    "    return q1, q2, q3, mean, iqr, clean_df\n",
    "\n",
    "    "
   ]
  },
  {
   "cell_type": "markdown",
   "id": "0249a6d5-42d5-4500-9ae2-37fe3cac70d4",
   "metadata": {},
   "source": [
    "### Detect and Remove outliers "
   ]
  },
  {
   "cell_type": "code",
   "execution_count": 45,
   "id": "da5763f2-c119-41e0-a295-d674f75d2d23",
   "metadata": {},
   "outputs": [],
   "source": [
    "def detected_and_remove_outliers(df, lower_bound, upper_bound):\n",
    "\n",
    "    # detect outliter\n",
    "    outliers = df[\n",
    "    (df['Total_time_used_mins_without_extra'] < lower_bound) |\n",
    "    (df['Total_time_used_mins_without_extra'] > upper_bound)\n",
    "    ]\n",
    "\n",
    "    # remove outlier\n",
    "    clean_df = df[\n",
    "    (df['Total_time_used_mins_without_extra'] >= lower_bound) &\n",
    "    (df['Total_time_used_mins_without_extra'] <= upper_bound)\n",
    "    ]\n",
    "\n",
    "    print(f\"Outliers removed:\\n{outliers[['candidate_id', 'Total_time_used_mins_without_extra']]}\")\n",
    "\n",
    "\n",
    "    return clean_df\n",
    "    "
   ]
  },
  {
   "cell_type": "markdown",
   "id": "6d6410e1-42be-4a6e-a654-f66078f25e5d",
   "metadata": {},
   "source": [
    "### Boxplot: avg of overall time used (with extra and incident time)"
   ]
  },
  {
   "cell_type": "code",
   "execution_count": 46,
   "id": "72eeace7-578c-4ea3-ac0a-0044a647ea35",
   "metadata": {},
   "outputs": [],
   "source": [
    "def plot_overall_avg_exam_time_with_extra(df):\n",
    "    ''' overview of avg overall time taken with extra/incident time'''\n",
    "\n",
    "    q1, q2, q3, mean, iqr, df_stats = calculate_stats_with_extra_time(df)\n",
    "\n",
    "    plt.figure(figsize=(8,6)) \n",
    "    sns.boxplot(y=df_stats['Total_time_used_mins'], color='lightblue', width=0.3)\n",
    "    plt.ylabel('Total Time Used (mins)')\n",
    "    plt.title('Distribution of Total Exam Time Used With Extra Time')\n",
    "    plt.grid(True)\n",
    "    plt.tight_layout()\n",
    "\n",
    "\n",
    "    # Adjust x-axis limits to center boxplot\n",
    "    plt.xlim(-0.5, 0.5)\n",
    "\n",
    "    # Horizontal lines for median and mean\n",
    "    plt.hlines(y=q2, xmin=-0.15, xmax=0.15, color='green', linestyle='--', linewidth=1)\n",
    "    plt.hlines(y=mean, xmin=-0.15, xmax=0.15, color='red', linestyle='-.', linewidth=1.5)\n",
    "\n",
    "    # Create legend handles for lines with labels and values\n",
    "    median_handle = mlines.Line2D([], [], color='green', linestyle='--', linewidth=1, label=f\"Median (Q2): {q2:.2f}\")\n",
    "    mean_handle = mlines.Line2D([], [], color='red', linestyle='-.', linewidth=1.5, label=f\"Mean: {mean:.2f}\")\n",
    "\n",
    "    # Add text-only entry for Q1, Q3, IQR\n",
    "    stats_text = f\"Q1: {q1:.2f} \\n Q3: {q3:.2f}  \\n IQR: {iqr:.2f}\"\n",
    "    stats_patch = mpatches.Patch(color='none', label=stats_text)\n",
    "\n",
    "    plt.legend(handles=[median_handle, mean_handle, stats_patch], loc='upper right', fontsize=10, frameon=True)\n",
    "    plt.show()"
   ]
  },
  {
   "cell_type": "markdown",
   "id": "1aa522ac-5c38-4808-9f1c-bb514e510791",
   "metadata": {},
   "source": [
    "### Boxplot: avg of overall time used (Without extra and incident time)"
   ]
  },
  {
   "cell_type": "code",
   "execution_count": 47,
   "id": "9474c0c4-53d9-4037-ab9e-2e53f0c2c3de",
   "metadata": {},
   "outputs": [],
   "source": [
    "def plot_overall_avg_exam_time_without_extra(df):\n",
    "    ''' overview of avg overall time taken without extra/incident time'''\n",
    "\n",
    "    q1, q2, q3, mean, iqr, df_stats = calculate_stats_without_extra_time(df)\n",
    "\n",
    "    plt.figure(figsize=(8,6)) \n",
    "    sns.boxplot(y=df_stats['Total_time_used_mins_without_extra'], color='lightblue', width=0.3)\n",
    "    plt.ylabel('Total Time Used (mins)')\n",
    "    plt.title('Distribution of Total Exam Time Used Without Extra Time')\n",
    "    plt.grid(True)\n",
    "    plt.tight_layout()\n",
    "\n",
    "\n",
    "    # Adjust x-axis limits to center boxplot\n",
    "    plt.xlim(-0.5, 0.5)\n",
    "\n",
    "    # Horizontal lines for median and mean\n",
    "    plt.hlines(y=q2, xmin=-0.15, xmax=0.15, color='green', linestyle='--', linewidth=1)\n",
    "    plt.hlines(y=mean, xmin=-0.15, xmax=0.15, color='red', linestyle='-.', linewidth=1.5)\n",
    "\n",
    "    # Create legend handles for lines with labels and values\n",
    "    median_handle = mlines.Line2D([], [], color='green', linestyle='--', linewidth=1, label=f\"Median (Q2): {q2:.2f}\")\n",
    "    mean_handle = mlines.Line2D([], [], color='red', linestyle='-.', linewidth=1.5, label=f\"Mean: {mean:.2f}\")\n",
    "\n",
    "    # Add text-only entry for Q1, Q3, IQR\n",
    "    stats_text = f\"Q1: {q1:.2f} \\n Q3: {q3:.2f}  \\n IQR: {iqr:.2f}\"\n",
    "    stats_patch = mpatches.Patch(color='none', label=stats_text)\n",
    "\n",
    "    plt.legend(handles=[median_handle, mean_handle, stats_patch], loc='upper right', fontsize=10, frameon=True)\n",
    "    plt.show()"
   ]
  },
  {
   "cell_type": "markdown",
   "id": "f8bbc624-d189-415a-895b-3b2119f90a33",
   "metadata": {},
   "source": [
    "### Boxplot: overall time used and associated grade category (With extra/incident time)"
   ]
  },
  {
   "cell_type": "code",
   "execution_count": 49,
   "id": "e018e517-126e-4eb4-a8b3-7577dcbd482a",
   "metadata": {},
   "outputs": [],
   "source": [
    "def plot_time_and_grades_with_extra_time(df):\n",
    "    max_score = df['total_score'].max()\n",
    "    # Define grade thresholds as % of max score\n",
    "    score_mapping = { \n",
    "        'A' : 0.92 * max_score,\n",
    "        'B' : 0.77 * max_score,\n",
    "        'C' : 0.58 * max_score, \n",
    "        'D' : 0.46 * max_score,\n",
    "        'E' : 0.40 * max_score, \n",
    "        'F' : 0.00 * max_score   \n",
    "    }\n",
    "\n",
    "    # Sort bins\n",
    "    sorted_grades = sorted(score_mapping.items(), key=lambda x: x[1])\n",
    "    labels = [grade for grade, _ in sorted_grades]\n",
    "    bins = [score for _, score in sorted_grades]\n",
    "\n",
    "    # Ensure bins increase strictly — avoid duplicate max\n",
    "    if max_score <= bins[-1]:\n",
    "        bins[-1] += 0.0001  # bump up the last bin slightly\n",
    "    else:\n",
    "        bins.append(max_score + 0.0001)\n",
    "\n",
    "    # Grade classification\n",
    "    df['grade_category'] = pd.cut(\n",
    "        df['total_score'], \n",
    "        bins=bins, \n",
    "        labels=labels,\n",
    "        include_lowest=True\n",
    "    )\n",
    "\n",
    "    # Set order\n",
    "    category_order = ['F', 'E', 'D', 'C', 'B', 'A']\n",
    "    df['grade_category'] = pd.Categorical(\n",
    "        df['grade_category'],\n",
    "        categories=category_order,\n",
    "        ordered=True\n",
    "    )\n",
    "\n",
    "    # Count per grade\n",
    "    counts = df['grade_category'].value_counts().reindex(category_order)\n",
    "\n",
    "    # Labels for x-axis\n",
    "    labels_with_counts = [\n",
    "        f\"{cat}\\n(n={counts[cat] if not pd.isna(counts[cat]) else 0})\"\n",
    "        for cat in category_order\n",
    "    ]\n",
    "\n",
    "    # Plot\n",
    "    plt.figure(figsize=(12,8))\n",
    "\n",
    "    sns.boxplot(\n",
    "        x='grade_category',\n",
    "        y='Total_time_used_mins',\n",
    "        hue='grade_category',\n",
    "        data=df,\n",
    "        palette='Blues',\n",
    "        legend=False\n",
    "    )\n",
    "\n",
    "    sns.pointplot(\n",
    "        x='grade_category',\n",
    "        y='Total_time_used_mins',\n",
    "        data=df,\n",
    "        color='red',\n",
    "        estimator='mean',\n",
    "        errorbar=None,\n",
    "        linestyles='',\n",
    "        markers='D',\n",
    "        label=\"mean\"\n",
    "    )\n",
    "\n",
    "    plt.grid(axis='y', linestyle='--', alpha=0.7)\n",
    "    plt.xlabel('Grade Category')\n",
    "    plt.ylabel('Total Time Used (mins)')\n",
    "    plt.title('Time Used by Grade Category (With Extra Time)')\n",
    "    plt.xticks(ticks=range(len(category_order)), labels=labels_with_counts)\n",
    "    plt.tight_layout()\n",
    "    plt.legend()\n",
    "    plt.show()\n",
    "\n",
    "    # Optional: return modified DataFrame\n",
    "    # return df\n"
   ]
  },
  {
   "cell_type": "markdown",
   "id": "be517a45-431a-4fcd-b0d7-1f3fb99dc250",
   "metadata": {},
   "source": [
    "### Boxplot: overall time used and associated grade category (Without extra/incident time)"
   ]
  },
  {
   "cell_type": "code",
   "execution_count": 50,
   "id": "45a92dd5-8276-4611-9c16-e68b4c085d32",
   "metadata": {},
   "outputs": [],
   "source": [
    "def plot_time_and_grades_without_extra_time(df):\n",
    "    max_score = df['total_score'].max()\n",
    "\n",
    "    # Define grade thresholds as % of max score\n",
    "    score_mapping = { \n",
    "        'A' : 0.92 * max_score,\n",
    "        'B' : 0.77 * max_score,\n",
    "        'C' : 0.58 * max_score, \n",
    "        'D' : 0.46 * max_score,\n",
    "        'E' : 0.40 * max_score, \n",
    "        'F' : 0.00 * max_score   \n",
    "    }\n",
    "\n",
    "    # Sort bins\n",
    "    sorted_grades = sorted(score_mapping.items(), key=lambda x: x[1])\n",
    "    labels = [grade for grade, _ in sorted_grades]\n",
    "    bins = [score for _, score in sorted_grades]\n",
    "\n",
    "    # Ensure bins increase strictly — avoid duplicate max\n",
    "    if max_score <= bins[-1]:\n",
    "        bins[-1] += 0.0001  # bump up the last bin slightly\n",
    "    else:\n",
    "        bins.append(max_score + 0.0001)\n",
    "\n",
    "    # Grade classification\n",
    "    df['grade_category'] = pd.cut(\n",
    "        df['total_score'], \n",
    "        bins=bins, \n",
    "        labels=labels,\n",
    "        include_lowest=True\n",
    "    )\n",
    "\n",
    "    # Set order\n",
    "    category_order = ['F', 'E', 'D', 'C', 'B', 'A']\n",
    "    df['grade_category'] = pd.Categorical(\n",
    "        df['grade_category'],\n",
    "        categories=category_order,\n",
    "        ordered=True\n",
    "    )\n",
    "\n",
    "    # Count per grade\n",
    "    counts = df['grade_category'].value_counts().reindex(category_order)\n",
    "\n",
    "    # Labels for x-axis\n",
    "    labels_with_counts = [\n",
    "        f\"{cat}\\n(n={counts[cat] if not pd.isna(counts[cat]) else 0})\"\n",
    "        for cat in category_order\n",
    "    ]\n",
    "\n",
    "    # Plot\n",
    "    plt.figure(figsize=(12,8))\n",
    "\n",
    "    sns.boxplot(\n",
    "        x='grade_category',\n",
    "        y='Total_time_used_mins_without_extra',\n",
    "        hue='grade_category',\n",
    "        data=df,\n",
    "        palette='Blues',\n",
    "        legend=False\n",
    "    )\n",
    "\n",
    "    sns.pointplot(\n",
    "        x='grade_category',\n",
    "        y='Total_time_used_mins_without_extra',\n",
    "        data=df,\n",
    "        color='red',\n",
    "        estimator='mean',\n",
    "        errorbar=None,\n",
    "        linestyles='',\n",
    "        markers='D',\n",
    "        label=\"mean\"\n",
    "    )\n",
    "\n",
    "    plt.grid(axis='y', linestyle='--', alpha=0.7)\n",
    "    plt.xlabel('Grade Category')\n",
    "    plt.ylabel('Total Time Used (mins)')\n",
    "    plt.title('Time Used by Grade Category (With Extra Time)')\n",
    "    plt.xticks(ticks=range(len(category_order)), labels=labels_with_counts)\n",
    "    plt.tight_layout()\n",
    "    plt.legend()\n",
    "    plt.show()\n",
    "\n",
    "    # Optional: return modified DataFrame\n",
    "    # return df\n",
    "\n",
    "    "
   ]
  },
  {
   "cell_type": "markdown",
   "id": "5f310fce-b810-4f76-8868-f8b5abacbc5d",
   "metadata": {},
   "source": [
    "### ##################---------------Main Execution Functions Here-------------------##################"
   ]
  },
  {
   "cell_type": "markdown",
   "id": "84319fdd-d035-45e7-89cf-266994ad6c6f",
   "metadata": {},
   "source": [
    "### Main function to run all pervious functins"
   ]
  },
  {
   "cell_type": "code",
   "execution_count": 51,
   "id": "81e3d6f2-9d01-4ab8-9e50-205e0652a5df",
   "metadata": {},
   "outputs": [],
   "source": [
    "def run_analysis(file_path):\n",
    "    ''' Run and process data analysis'''\n",
    "\n",
    "    # Read Data\n",
    "    df = read_data(file_path)\n",
    "\n",
    "    # prep and extract data from original df for time per task analysis\n",
    "    exam_time_df = prep_total_time_data(df)\n",
    "\n",
    "    # convert time taken per task from second to minutes\n",
    "    exam_time_df = calc_time_usage_stats_with_extra(exam_time_df, max_minutes = 210)\n",
    "\n",
    "    exam_time_df = calc_time_usage_stats_without_extra(exam_time_df, max_minutes = 210)\n",
    "\n",
    "\n",
    "    # calculate ideal time \n",
    "   # exam_time_df = calculate_ideal_time_per_task(exam_time_df)\n",
    "\n",
    "    return exam_time_df\n"
   ]
  },
  {
   "cell_type": "markdown",
   "id": "c633fe79-c27a-46dd-8e11-ce17d049aaf5",
   "metadata": {},
   "source": [
    "### Expore Data into a file"
   ]
  },
  {
   "cell_type": "code",
   "execution_count": 52,
   "id": "86fba820-a763-48e2-8e71-37f1afbc1069",
   "metadata": {},
   "outputs": [],
   "source": [
    "def export_data(df, output_path, file_format='xlsx'):\n",
    "    \"\"\"\n",
    "    Save cleaned data to file\n",
    "    Args:\n",
    "        df (pandas.DataFrame): Cleaned DataFrame\n",
    "        output_path (str): Path to save the file\n",
    "        file_format (str): Format to save ('xlsx', 'csv', 'json')\n",
    "    \"\"\"\n",
    "    try:\n",
    "        if file_format == 'xlsx':\n",
    "            df.to_excel(output_path, index=False)\n",
    "        elif file_format == 'csv':\n",
    "            df.to_csv(output_path, index=False)\n",
    "        elif file_format == 'json':\n",
    "            df.to_json(output_path, orient='records', indent=2)\n",
    "        else:\n",
    "            raise ValueError(f\"Unsupported format: {file_format}\")\n",
    "        \n",
    "        print(f\"Data saved successfully to {output_path}\")\n",
    "    except Exception as e:\n",
    "        print(f\"Error saving data: {e}\")"
   ]
  },
  {
   "cell_type": "markdown",
   "id": "55541bd2-80c2-41f1-9a3e-b3f5a7cd9645",
   "metadata": {},
   "source": [
    "### ####################---------------Execute Analysis Here -------------------#########################"
   ]
  },
  {
   "cell_type": "markdown",
   "id": "28993bc8-d0b0-4f4c-acfc-9be5d0f9759f",
   "metadata": {},
   "source": [
    "## 1) Execute Analysis"
   ]
  },
  {
   "cell_type": "code",
   "execution_count": 53,
   "id": "e7fb666c-9eb6-4ac1-b0a3-e4603c0c8efa",
   "metadata": {},
   "outputs": [
    {
     "data": {
      "text/html": [
       "<div>\n",
       "<style scoped>\n",
       "    .dataframe tbody tr th:only-of-type {\n",
       "        vertical-align: middle;\n",
       "    }\n",
       "\n",
       "    .dataframe tbody tr th {\n",
       "        vertical-align: top;\n",
       "    }\n",
       "\n",
       "    .dataframe thead th {\n",
       "        text-align: right;\n",
       "    }\n",
       "</style>\n",
       "<table border=\"1\" class=\"dataframe\">\n",
       "  <thead>\n",
       "    <tr style=\"text-align: right;\">\n",
       "      <th></th>\n",
       "      <th>candidate_id</th>\n",
       "      <th>exam_start_time</th>\n",
       "      <th>exam_last_modified_time</th>\n",
       "      <th>extra_time_mins</th>\n",
       "      <th>incident_time_mins</th>\n",
       "      <th>total_score</th>\n",
       "      <th>Total_time_used_mins</th>\n",
       "      <th>Remaining_time_mins</th>\n",
       "      <th>%Time_used</th>\n",
       "      <th>last_modified_time_without_extra_time</th>\n",
       "      <th>Total_time_used_mins_without_extra</th>\n",
       "      <th>Remaining_time_mins_without_extra</th>\n",
       "      <th>%Time_used_without_extra</th>\n",
       "    </tr>\n",
       "  </thead>\n",
       "  <tbody>\n",
       "    <tr>\n",
       "      <th>0</th>\n",
       "      <td>17104</td>\n",
       "      <td>2024-12-11 14:00:02</td>\n",
       "      <td>2024-12-11 17:55:47</td>\n",
       "      <td>0</td>\n",
       "      <td>0</td>\n",
       "      <td>89.74</td>\n",
       "      <td>235.75</td>\n",
       "      <td>-25.75</td>\n",
       "      <td>112.26</td>\n",
       "      <td>2024-12-11 17:55:47</td>\n",
       "      <td>235.75</td>\n",
       "      <td>-25.75</td>\n",
       "      <td>112.26</td>\n",
       "    </tr>\n",
       "    <tr>\n",
       "      <th>1</th>\n",
       "      <td>17105</td>\n",
       "      <td>2024-12-11 14:00:01</td>\n",
       "      <td>2024-12-11 17:48:51</td>\n",
       "      <td>0</td>\n",
       "      <td>0</td>\n",
       "      <td>70.88</td>\n",
       "      <td>228.83</td>\n",
       "      <td>-18.83</td>\n",
       "      <td>108.97</td>\n",
       "      <td>2024-12-11 17:48:51</td>\n",
       "      <td>228.83</td>\n",
       "      <td>-18.83</td>\n",
       "      <td>108.97</td>\n",
       "    </tr>\n",
       "    <tr>\n",
       "      <th>2</th>\n",
       "      <td>17106</td>\n",
       "      <td>2024-12-11 14:00:02</td>\n",
       "      <td>2024-12-11 17:46:31</td>\n",
       "      <td>0</td>\n",
       "      <td>0</td>\n",
       "      <td>37.64</td>\n",
       "      <td>226.48</td>\n",
       "      <td>-16.48</td>\n",
       "      <td>107.85</td>\n",
       "      <td>2024-12-11 17:46:31</td>\n",
       "      <td>226.48</td>\n",
       "      <td>-16.48</td>\n",
       "      <td>107.85</td>\n",
       "    </tr>\n",
       "    <tr>\n",
       "      <th>3</th>\n",
       "      <td>17107</td>\n",
       "      <td>2024-12-11 14:00:02</td>\n",
       "      <td>2024-12-11 15:57:52</td>\n",
       "      <td>0</td>\n",
       "      <td>0</td>\n",
       "      <td>76.81</td>\n",
       "      <td>117.83</td>\n",
       "      <td>92.17</td>\n",
       "      <td>56.11</td>\n",
       "      <td>2024-12-11 15:57:52</td>\n",
       "      <td>117.83</td>\n",
       "      <td>92.17</td>\n",
       "      <td>56.11</td>\n",
       "    </tr>\n",
       "    <tr>\n",
       "      <th>4</th>\n",
       "      <td>17111</td>\n",
       "      <td>2024-12-11 14:00:04</td>\n",
       "      <td>2024-12-11 18:14:54</td>\n",
       "      <td>30</td>\n",
       "      <td>0</td>\n",
       "      <td>35.71</td>\n",
       "      <td>254.83</td>\n",
       "      <td>-44.83</td>\n",
       "      <td>121.35</td>\n",
       "      <td>2024-12-11 17:44:54</td>\n",
       "      <td>224.83</td>\n",
       "      <td>-14.83</td>\n",
       "      <td>107.06</td>\n",
       "    </tr>\n",
       "    <tr>\n",
       "      <th>...</th>\n",
       "      <td>...</td>\n",
       "      <td>...</td>\n",
       "      <td>...</td>\n",
       "      <td>...</td>\n",
       "      <td>...</td>\n",
       "      <td>...</td>\n",
       "      <td>...</td>\n",
       "      <td>...</td>\n",
       "      <td>...</td>\n",
       "      <td>...</td>\n",
       "      <td>...</td>\n",
       "      <td>...</td>\n",
       "      <td>...</td>\n",
       "    </tr>\n",
       "    <tr>\n",
       "      <th>564</th>\n",
       "      <td>17840</td>\n",
       "      <td>2024-12-11 14:00:07</td>\n",
       "      <td>2024-12-11 17:51:44</td>\n",
       "      <td>0</td>\n",
       "      <td>0</td>\n",
       "      <td>75.33</td>\n",
       "      <td>231.62</td>\n",
       "      <td>-21.62</td>\n",
       "      <td>110.30</td>\n",
       "      <td>2024-12-11 17:51:44</td>\n",
       "      <td>231.62</td>\n",
       "      <td>-21.62</td>\n",
       "      <td>110.30</td>\n",
       "    </tr>\n",
       "    <tr>\n",
       "      <th>565</th>\n",
       "      <td>17841</td>\n",
       "      <td>2024-12-11 14:00:07</td>\n",
       "      <td>2024-12-11 18:26:29</td>\n",
       "      <td>30</td>\n",
       "      <td>0</td>\n",
       "      <td>63.18</td>\n",
       "      <td>266.37</td>\n",
       "      <td>-56.37</td>\n",
       "      <td>126.84</td>\n",
       "      <td>2024-12-11 17:56:29</td>\n",
       "      <td>236.37</td>\n",
       "      <td>-26.37</td>\n",
       "      <td>112.56</td>\n",
       "    </tr>\n",
       "    <tr>\n",
       "      <th>566</th>\n",
       "      <td>17842</td>\n",
       "      <td>2024-12-11 14:00:01</td>\n",
       "      <td>2024-12-11 17:07:56</td>\n",
       "      <td>0</td>\n",
       "      <td>0</td>\n",
       "      <td>62.31</td>\n",
       "      <td>187.92</td>\n",
       "      <td>22.08</td>\n",
       "      <td>89.49</td>\n",
       "      <td>2024-12-11 17:07:56</td>\n",
       "      <td>187.92</td>\n",
       "      <td>22.08</td>\n",
       "      <td>89.49</td>\n",
       "    </tr>\n",
       "    <tr>\n",
       "      <th>567</th>\n",
       "      <td>17843</td>\n",
       "      <td>2024-12-11 14:00:01</td>\n",
       "      <td>2024-12-11 16:51:06</td>\n",
       "      <td>0</td>\n",
       "      <td>0</td>\n",
       "      <td>60.50</td>\n",
       "      <td>171.08</td>\n",
       "      <td>38.92</td>\n",
       "      <td>81.47</td>\n",
       "      <td>2024-12-11 16:51:06</td>\n",
       "      <td>171.08</td>\n",
       "      <td>38.92</td>\n",
       "      <td>81.47</td>\n",
       "    </tr>\n",
       "    <tr>\n",
       "      <th>568</th>\n",
       "      <td>17844</td>\n",
       "      <td>2024-12-11 14:07:07</td>\n",
       "      <td>2024-12-11 17:56:30</td>\n",
       "      <td>0</td>\n",
       "      <td>8</td>\n",
       "      <td>49.75</td>\n",
       "      <td>229.38</td>\n",
       "      <td>-19.38</td>\n",
       "      <td>109.23</td>\n",
       "      <td>2024-12-11 17:48:30</td>\n",
       "      <td>221.38</td>\n",
       "      <td>-11.38</td>\n",
       "      <td>105.42</td>\n",
       "    </tr>\n",
       "  </tbody>\n",
       "</table>\n",
       "<p>569 rows × 13 columns</p>\n",
       "</div>"
      ],
      "text/plain": [
       "     candidate_id     exam_start_time exam_last_modified_time  \\\n",
       "0           17104 2024-12-11 14:00:02     2024-12-11 17:55:47   \n",
       "1           17105 2024-12-11 14:00:01     2024-12-11 17:48:51   \n",
       "2           17106 2024-12-11 14:00:02     2024-12-11 17:46:31   \n",
       "3           17107 2024-12-11 14:00:02     2024-12-11 15:57:52   \n",
       "4           17111 2024-12-11 14:00:04     2024-12-11 18:14:54   \n",
       "..            ...                 ...                     ...   \n",
       "564         17840 2024-12-11 14:00:07     2024-12-11 17:51:44   \n",
       "565         17841 2024-12-11 14:00:07     2024-12-11 18:26:29   \n",
       "566         17842 2024-12-11 14:00:01     2024-12-11 17:07:56   \n",
       "567         17843 2024-12-11 14:00:01     2024-12-11 16:51:06   \n",
       "568         17844 2024-12-11 14:07:07     2024-12-11 17:56:30   \n",
       "\n",
       "     extra_time_mins  incident_time_mins  total_score  Total_time_used_mins  \\\n",
       "0                  0                   0        89.74                235.75   \n",
       "1                  0                   0        70.88                228.83   \n",
       "2                  0                   0        37.64                226.48   \n",
       "3                  0                   0        76.81                117.83   \n",
       "4                 30                   0        35.71                254.83   \n",
       "..               ...                 ...          ...                   ...   \n",
       "564                0                   0        75.33                231.62   \n",
       "565               30                   0        63.18                266.37   \n",
       "566                0                   0        62.31                187.92   \n",
       "567                0                   0        60.50                171.08   \n",
       "568                0                   8        49.75                229.38   \n",
       "\n",
       "     Remaining_time_mins  %Time_used last_modified_time_without_extra_time  \\\n",
       "0                 -25.75      112.26                   2024-12-11 17:55:47   \n",
       "1                 -18.83      108.97                   2024-12-11 17:48:51   \n",
       "2                 -16.48      107.85                   2024-12-11 17:46:31   \n",
       "3                  92.17       56.11                   2024-12-11 15:57:52   \n",
       "4                 -44.83      121.35                   2024-12-11 17:44:54   \n",
       "..                   ...         ...                                   ...   \n",
       "564               -21.62      110.30                   2024-12-11 17:51:44   \n",
       "565               -56.37      126.84                   2024-12-11 17:56:29   \n",
       "566                22.08       89.49                   2024-12-11 17:07:56   \n",
       "567                38.92       81.47                   2024-12-11 16:51:06   \n",
       "568               -19.38      109.23                   2024-12-11 17:48:30   \n",
       "\n",
       "     Total_time_used_mins_without_extra  Remaining_time_mins_without_extra  \\\n",
       "0                                235.75                             -25.75   \n",
       "1                                228.83                             -18.83   \n",
       "2                                226.48                             -16.48   \n",
       "3                                117.83                              92.17   \n",
       "4                                224.83                             -14.83   \n",
       "..                                  ...                                ...   \n",
       "564                              231.62                             -21.62   \n",
       "565                              236.37                             -26.37   \n",
       "566                              187.92                              22.08   \n",
       "567                              171.08                              38.92   \n",
       "568                              221.38                             -11.38   \n",
       "\n",
       "     %Time_used_without_extra  \n",
       "0                      112.26  \n",
       "1                      108.97  \n",
       "2                      107.85  \n",
       "3                       56.11  \n",
       "4                      107.06  \n",
       "..                        ...  \n",
       "564                    110.30  \n",
       "565                    112.56  \n",
       "566                     89.49  \n",
       "567                     81.47  \n",
       "568                    105.42  \n",
       "\n",
       "[569 rows x 13 columns]"
      ]
     },
     "execution_count": 53,
     "metadata": {},
     "output_type": "execute_result"
    }
   ],
   "source": [
    "# Read our data file\n",
    "exam_time_df = run_analysis(\"data/cleaned_data_with_manual_scores2024.xlsx\")\n",
    "exam_time_df"
   ]
  },
  {
   "cell_type": "markdown",
   "id": "8fded698-2a87-4bc0-a372-70f7e1ca27c8",
   "metadata": {},
   "source": [
    "### ####################---------------Export Processed File Here -------------------######################"
   ]
  },
  {
   "cell_type": "markdown",
   "id": "a2ceb462-80fc-4745-be6a-e4893b1c5a4a",
   "metadata": {},
   "source": [
    "## 2) Export Proccessed Analysis File"
   ]
  },
  {
   "cell_type": "code",
   "execution_count": 54,
   "id": "c08e8b34-7bce-405b-bceb-3fa06c33a616",
   "metadata": {},
   "outputs": [],
   "source": [
    "# export_data(exam_time_df, 'processed data/Total_Exam_Time_Analysis_2024.xlsx', 'xlsx')"
   ]
  },
  {
   "cell_type": "markdown",
   "id": "935cd0c0-7a37-47cc-8384-c6d67ec75075",
   "metadata": {},
   "source": [
    "### ####################---------------Visualize and Plot Here-------------------######################"
   ]
  },
  {
   "cell_type": "markdown",
   "id": "d923c708-16b6-4fa5-bab2-5456bb0d4895",
   "metadata": {},
   "source": [
    "## 3) Visualization of Data"
   ]
  },
  {
   "cell_type": "markdown",
   "id": "8a8a2290-840d-4a00-816f-ee34b09b64cd",
   "metadata": {},
   "source": [
    "#### There are 4 visualization functions in here:\n",
    "\n",
    "##### 1) plot_overall_avg_exam_time_extra(exam_time_df)\n",
    "##### 2) plot_overall_avg_exam_time_without_extra(exam_time_df)\n",
    "##### 3) plot_time_and_grades_with_extra_time(exam_time_df)\n",
    "##### 4) plot_time_and_grades_without_extra_time(exam_time_df)\n",
    "\n",
    "#### How to use: to plot just pass the dataframe (exam_time_df), wehich you get from the run_analysis method."
   ]
  },
  {
   "cell_type": "code",
   "execution_count": 55,
   "id": "28764e34-ec1f-431b-8441-37ca174a742f",
   "metadata": {},
   "outputs": [
    {
     "name": "stdout",
     "output_type": "stream",
     "text": [
      "Outliers removed:\n",
      "     candidate_id  Total_time_used_mins_without_extra\n",
      "98          17244                               57.28\n",
      "273         17465                               49.25\n",
      "411         17639                               40.75\n"
     ]
    },
    {
     "data": {
      "image/png": "[encoded data removed]",
      "text/plain": [
       "<Figure size 800x600 with 1 Axes>"
      ]
     },
     "metadata": {},
     "output_type": "display_data"
    }
   ],
   "source": [
    "# Boxplot of avg time used (including extra/incident time).\n",
    "plot_overall_avg_exam_time_with_extra(exam_time_df)"
   ]
  },
  {
   "cell_type": "code",
   "execution_count": 56,
   "id": "ca8b8660-7838-4821-80f6-f38c1c9b1267",
   "metadata": {},
   "outputs": [
    {
     "name": "stdout",
     "output_type": "stream",
     "text": [
      "Outliers removed:\n",
      "     candidate_id  Total_time_used_mins_without_extra\n",
      "98          17244                               57.28\n",
      "273         17465                               49.25\n",
      "411         17639                               40.75\n"
     ]
    },
    {
     "data": {
      "image/png": "[encoded data removed]",
      "text/plain": [
       "<Figure size 800x600 with 1 Axes>"
      ]
     },
     "metadata": {},
     "output_type": "display_data"
    }
   ],
   "source": [
    "# Boxplot of avg time used (exluding extra/incident time).\n",
    "plot_overall_avg_exam_time_without_extra(exam_time_df)"
   ]
  },
  {
   "cell_type": "markdown",
   "id": "6ea1deec-4fa2-4e4e-88d9-d7636bc6953f",
   "metadata": {},
   "source": [
    "### Boxplot total time per grade category (Including Extra/Incided Time)"
   ]
  },
  {
   "cell_type": "code",
   "execution_count": 57,
   "id": "f900cc5e-f3de-4fe1-9e1a-7e6261142038",
   "metadata": {},
   "outputs": [
    {
     "data": {
      "image/png": "[encoded data removed]",
      "text/plain": [
       "<Figure size 1200x800 with 1 Axes>"
      ]
     },
     "metadata": {},
     "output_type": "display_data"
    }
   ],
   "source": [
    "plot_time_and_grades_with_extra_time1(exam_time_df)"
   ]
  },
  {
   "cell_type": "markdown",
   "id": "caadb5ca-bc80-4941-9687-4c0d47ab7af1",
   "metadata": {},
   "source": [
    "### Boxplot total time per grade category (Excluding Extra/Incided Time)"
   ]
  },
  {
   "cell_type": "code",
   "execution_count": 58,
   "id": "ba0e9efd-019c-47c4-8362-3e8c65b3e533",
   "metadata": {},
   "outputs": [
    {
     "data": {
      "image/png": "[encoded data removed]",
      "text/plain": [
       "<Figure size 1200x800 with 1 Axes>"
      ]
     },
     "metadata": {},
     "output_type": "display_data"
    }
   ],
   "source": [
    "plot_time_and_grades_without_extra_time(exam_time_df)"
   ]
  }
 ],
 "metadata": {
  "kernelspec": {
   "display_name": "Python 3 (ipykernel)",
   "language": "python",
   "name": "python3"
  },
  "language_info": {
   "codemirror_mode": {
    "name": "ipython",
    "version": 3
   },
   "file_extension": ".py",
   "mimetype": "text/x-python",
   "name": "python",
   "nbconvert_exporter": "python",
   "pygments_lexer": "ipython3",
   "version": "3.12.11"
  }
 },
 "nbformat": 4,
 "nbformat_minor": 5
}
