{
 "cells": [
  {
   "cell_type": "code",
   "execution_count": 391,
   "id": "61cc4b4f-6d12-4378-a93a-bf40417e3e50",
   "metadata": {},
   "outputs": [],
   "source": [
    "import pandas as pd\n",
    "import numpy as np\n",
    "import matplotlib.pyplot as plt\n",
    "import matplotlib.patches as mpatches\n",
    "import matplotlib.lines as mlines\n",
    "import seaborn as sns"
   ]
  },
  {
   "cell_type": "markdown",
   "id": "45d7724f-f8e2-41de-84c6-f55ecb96fcab",
   "metadata": {},
   "source": [
    "## Functions"
   ]
  },
  {
   "cell_type": "markdown",
   "id": "9c628890-e206-4566-b150-3bfc66e40dde",
   "metadata": {},
   "source": [
    "### Read Data"
   ]
  },
  {
   "cell_type": "code",
   "execution_count": 392,
   "id": "76b616a5-15f5-4703-a3fa-5d7e2948e793",
   "metadata": {},
   "outputs": [],
   "source": [
    "def read_data(file_path):\n",
    "    '''Read Excel File'''\n",
    "    \n",
    "    df = pd.read_excel(file_path, engine = 'openpyxl')\n",
    "\n",
    "    return df"
   ]
  },
  {
   "cell_type": "markdown",
   "id": "6f791734-e919-4de1-8389-5da8139e3379",
   "metadata": {},
   "source": [
    "### Prep and Extract Speific Data for time analysis"
   ]
  },
  {
   "cell_type": "code",
   "execution_count": 394,
   "id": "15bc4ca5-c999-4da0-804a-9f75d9d18744",
   "metadata": {},
   "outputs": [],
   "source": [
    "def prep_total_time_data(df):\n",
    "    '''Extract relevant data for total time analysis and create new df'''\n",
    "   \n",
    "    exam_time_df = df.groupby('candidate_id', as_index=False).first()[\n",
    "    ['candidate_id', 'exam_start_time', 'last_modified_time', 'extra_time_mins', 'incident_time_mins', 'total_score']\n",
    "    ]\n",
    "\n",
    "    return exam_time_df"
   ]
  },
  {
   "cell_type": "markdown",
   "id": "e6c53003-fbc4-4977-8961-c660aacd38d3",
   "metadata": {},
   "source": [
    "### Remove Extra and Incident Time from Last modified time"
   ]
  },
  {
   "cell_type": "code",
   "execution_count": 397,
   "id": "a3c6ab10-c1a4-4222-aefe-30076e97713c",
   "metadata": {},
   "outputs": [],
   "source": [
    "def remove_extra_time(df):\n",
    "    '''Remove extra and incident time from last_modified_time '''\n",
    "    df['last_modified_time_without_extra_time'] = (\n",
    "    df['last_modified_time']\n",
    "    - pd.to_timedelta(df['extra_time_mins'], unit='m')\n",
    "    - pd.to_timedelta(df['incident_time_mins'], unit='m')\n",
    "    )\n",
    "    return df"
   ]
  },
  {
   "cell_type": "markdown",
   "id": "9803e0e0-4692-4666-a23a-5dd657dda29b",
   "metadata": {},
   "source": [
    "### Calculate time usage with extra and incident time"
   ]
  },
  {
   "cell_type": "code",
   "execution_count": 398,
   "id": "89716295-5c9b-424a-8d38-320e22b4e7e0",
   "metadata": {},
   "outputs": [],
   "source": [
    "def calc_time_usage_stats_with_extra(df, max_minutes = 210):\n",
    "    \"\"\"\n",
    "    Calculate and adds time usage columns to the DataFrame (df):\n",
    "      - Brukt_tid: total time used in minutes\n",
    "      - Tid_igjen: remaining time in minutes\n",
    "      - Prosent_brukt: percent of allowed time used\n",
    "    \"\"\"\n",
    "    df = df.copy() \n",
    "    \n",
    "    # Calculate how much time was used (in minutes), rounded to 2 decimal places\n",
    "\n",
    "    df[\"Total_time_used_mins\"] = round((df['last_modified_time'] - df['exam_start_time']).dt.total_seconds() / 60 ,2)\n",
    "\n",
    "    # Calculate how much time was left (maximum allowed minus used), rounded to 2 decimals \n",
    "    df[\"Remaining_time_mins\"] = round(max_minutes - df[\"Total_time_used_mins\"], 2)\n",
    "\n",
    "    # Calculate percentage of allowed time used, rounded to 2 decimals\n",
    "    df[\"%Time_used\"] = round((df[\"Total_time_used_mins\"] / max_minutes) * 100, 2)\n",
    "\n",
    "    \n",
    "    return df"
   ]
  },
  {
   "cell_type": "markdown",
   "id": "c857d98f-0673-4d0c-9870-70d53fdb8c84",
   "metadata": {},
   "source": [
    "### Calculate time usage without extra and incident time"
   ]
  },
  {
   "cell_type": "code",
   "execution_count": 399,
   "id": "91bf691d-ce74-440c-bc1e-9783d75b2bb4",
   "metadata": {},
   "outputs": [],
   "source": [
    "def calc_time_usage_stats_without_extra(df, max_minutes = 210):\n",
    "    \"\"\"\n",
    "    Calculate and adds time usage columns to the DataFrame (df):\n",
    "      - Brukt_tid: total time used in minutes\n",
    "      - Tid_igjen: remaining time in minutes\n",
    "      - Prosent_brukt: percent of allowed time used\n",
    "    \"\"\"\n",
    "    df = df.copy() \n",
    "\n",
    "    # remove extra time which added automatically to last modified time\n",
    "    df = remove_extra_time(df)\n",
    "    # Calculate how much time was used (in minutes), rounded to 2 decimal places\n",
    "     \n",
    "    df[\"Total_time_used_mins_without_extra\"] = round((df['last_modified_time_without_extra_time'] - df['exam_start_time']).dt.total_seconds() / 60 ,2)\n",
    "\n",
    "    # Calculate how much time was left (maximum allowed minus used), rounded to 2 decimals \n",
    "    df[\"Remaining_time_mins_without_extra\"] = round(max_minutes - df[\"Total_time_used_mins_without_extra\"], 2)\n",
    "\n",
    "    # Calculate percentage of allowed time used, rounded to 2 decimals\n",
    "    df[\"%Time_used_without_extra\"] = round((df[\"Total_time_used_mins_without_extra\"] / max_minutes) * 100, 2)\n",
    "\n",
    "    \n",
    "    return df"
   ]
  },
  {
   "cell_type": "markdown",
   "id": "4b1813ed-c53a-470b-afcf-691eb63faf48",
   "metadata": {},
   "source": [
    "### Calculate statistic for boxplotting with extra and incident time"
   ]
  },
  {
   "cell_type": "code",
   "execution_count": 400,
   "id": "de4b780b-81d9-4a64-9785-48507b35ff6c",
   "metadata": {},
   "outputs": [],
   "source": [
    "def calculate_stats_with_extra_time(df):\n",
    "    ''' calulate statsitc value for boxplot'''\n",
    "    q1 = df['Total_time_used_mins'].quantile(0.25)\n",
    "    q2 = df['Total_time_used_mins'].quantile(0.5)  # median\n",
    "    q3 = df['Total_time_used_mins'].quantile(0.75)\n",
    "    iqr = q3 - q1\n",
    "    \n",
    "    # remove outliers from plotbox and stats\n",
    "    lower_bound = q1 - 1.5 * iqr\n",
    "    upper_bound = q3 + 1.5 * iqr\n",
    "\n",
    "    # detect outliers\n",
    "    outliers = df[\n",
    "    (df['Total_time_used_mins'] < lower_bound) |\n",
    "    (df['Total_time_used_mins'] > upper_bound)\n",
    "    ]\n",
    "\n",
    "    # remove outliers\n",
    "    clean_df = df[\n",
    "    (df['Total_time_used_mins'] >= lower_bound) &\n",
    "    (df['Total_time_used_mins'] <= upper_bound)\n",
    "    ]\n",
    "\n",
    "    print(f\"Outliers removed:\\n{outliers[['candidate_id', 'Total_time_used_mins']]}\")\n",
    "\n",
    "    #calc mean and median\n",
    "    mean = df['Total_time_used_mins'].mean()\n",
    "    median = df['Total_time_used_mins'].median()\n",
    "    \n",
    "\n",
    "    return q1, q2, q3, mean, iqr, clean_df\n"
   ]
  },
  {
   "cell_type": "markdown",
   "id": "fcde6aad-8c4d-476d-b26e-be78f488cbff",
   "metadata": {},
   "source": [
    "### Calculate statistic for boxplotting without extra and incident time"
   ]
  },
  {
   "cell_type": "code",
   "execution_count": 401,
   "id": "b8fa858b-d78a-4c32-b37e-b86ead711c01",
   "metadata": {},
   "outputs": [],
   "source": [
    "def calculate_stats_without_extra_time(df):\n",
    "    ''' calulate statsitc value for boxplot'''\n",
    "    \n",
    "    q1 = df['Total_time_used_mins_without_extra'].quantile(0.25)\n",
    "    q2 = df['Total_time_used_mins_without_extra'].quantile(0.5)  # median\n",
    "    q3 = df['Total_time_used_mins_without_extra'].quantile(0.75)\n",
    "    iqr = q3 - q1\n",
    "    \n",
    "    # remove outliers from plotbox and stats\n",
    "    lower_bound = q1 - 1.5 * iqr\n",
    "    upper_bound = q3 + 1.5 * iqr\n",
    "\n",
    "    # detect outliter\n",
    "    outliers = df[\n",
    "    (df['Total_time_used_mins_without_extra'] < lower_bound) |\n",
    "    (df['Total_time_used_mins_without_extra'] > upper_bound)\n",
    "    ]\n",
    "\n",
    "    # remove outlier\n",
    "    clean_df = df[\n",
    "    (df['Total_time_used_mins_without_extra'] >= lower_bound) &\n",
    "    (df['Total_time_used_mins_without_extra'] <= upper_bound)\n",
    "    ]\n",
    "\n",
    "    print(f\"Outliers removed:\\n{outliers[['candidate_id', 'Total_time_used_mins_without_extra']]}\")\n",
    " \n",
    "    #calc mean and median\n",
    "    mean = df['Total_time_used_mins_without_extra'].mean()\n",
    "    median = df['Total_time_used_mins_without_extra'].median()\n",
    "    \n",
    "\n",
    "    return q1, q2, q3, mean, iqr, clean_df\n",
    "\n",
    "    "
   ]
  },
  {
   "cell_type": "markdown",
   "id": "6d6410e1-42be-4a6e-a654-f66078f25e5d",
   "metadata": {},
   "source": [
    "### Boxplotting with extra and incident time"
   ]
  },
  {
   "cell_type": "code",
   "execution_count": 403,
   "id": "72eeace7-578c-4ea3-ac0a-0044a647ea35",
   "metadata": {},
   "outputs": [],
   "source": [
    "def plot_exam_time_boxplot(q1, q2, q3, mean, iqr, df):\n",
    "    ''' Make box plot of time data'''\n",
    "\n",
    "\n",
    "    plt.figure(figsize=(8,6))  # narrower figure\n",
    "    sns.boxplot(y=df['Total_time_used_mins'], color='lightblue', width=0.3)\n",
    "    plt.ylabel('Total Time Used (mins)')\n",
    "    plt.title('Distribution of Total Exam Time Used With Extra Time')\n",
    "    plt.grid(True)\n",
    "    plt.tight_layout()\n",
    "\n",
    "\n",
    "    # Adjust x-axis limits to center boxplot\n",
    "    plt.xlim(-0.5, 0.5)\n",
    "\n",
    "    # Horizontal lines for median and mean\n",
    "    plt.hlines(y=q2, xmin=-0.15, xmax=0.15, color='green', linestyle='--', linewidth=1)\n",
    "    plt.hlines(y=mean_, xmin=-0.15, xmax=0.15, color='red', linestyle='-.', linewidth=1.5)\n",
    "\n",
    "    # Create legend handles for lines with labels and values\n",
    "    median_handle = mlines.Line2D([], [], color='green', linestyle='--', linewidth=1, label=f\"Median (Q2): {q2:.2f}\")\n",
    "    mean_handle = mlines.Line2D([], [], color='red', linestyle='-.', linewidth=1.5, label=f\"Mean: {mean_:.2f}\")\n",
    "\n",
    "    # Add text-only entry for Q1, Q3, IQR\n",
    "    stats_text = f\"Q1: {q1:.2f} \\n Q3: {q3:.2f}  \\n IQR: {iqr:.2f}\"\n",
    "    stats_patch = mpatches.Patch(color='none', label=stats_text)\n",
    "\n",
    "    plt.legend(handles=[median_handle, mean_handle, stats_patch], loc='upper right', fontsize=10, frameon=True)\n",
    "    plt.show()"
   ]
  },
  {
   "cell_type": "markdown",
   "id": "1aa522ac-5c38-4808-9f1c-bb514e510791",
   "metadata": {},
   "source": [
    "### Boxplotting without extra and incident time"
   ]
  },
  {
   "cell_type": "code",
   "execution_count": 404,
   "id": "9474c0c4-53d9-4037-ab9e-2e53f0c2c3de",
   "metadata": {},
   "outputs": [],
   "source": [
    "def plot_exam_time_boxplot2(q1, q2, q3, mean, iqr, df):\n",
    "    ''' Make box plot of time data'''\n",
    "\n",
    "\n",
    "    plt.figure(figsize=(8,6))  # narrower figure\n",
    "    sns.boxplot(y=df['Total_time_used_mins_without_extra'], color='lightblue', width=0.3)\n",
    "    plt.ylabel('Total Time Used (mins)')\n",
    "    plt.title('Distribution of Total Exam Time Used Without Extra Time')\n",
    "    plt.grid(True)\n",
    "    plt.tight_layout()\n",
    "\n",
    "\n",
    "    # Adjust x-axis limits to center boxplot\n",
    "    plt.xlim(-0.5, 0.5)\n",
    "\n",
    "    # Horizontal lines for median and mean\n",
    "    plt.hlines(y=q2, xmin=-0.15, xmax=0.15, color='green', linestyle='--', linewidth=1)\n",
    "    plt.hlines(y=mean_, xmin=-0.15, xmax=0.15, color='red', linestyle='-.', linewidth=1.5)\n",
    "\n",
    "    # Create legend handles for lines with labels and values\n",
    "    median_handle = mlines.Line2D([], [], color='green', linestyle='--', linewidth=1, label=f\"Median (Q2): {q2:.2f}\")\n",
    "    mean_handle = mlines.Line2D([], [], color='red', linestyle='-.', linewidth=1.5, label=f\"Mean: {mean_:.2f}\")\n",
    "\n",
    "    # Add text-only entry for Q1, Q3, IQR\n",
    "    stats_text = f\"Q1: {q1:.2f} \\n Q3: {q3:.2f}  \\n IQR: {iqr:.2f}\"\n",
    "    stats_patch = mpatches.Patch(color='none', label=stats_text)\n",
    "\n",
    "    plt.legend(handles=[median_handle, mean_handle, stats_patch], loc='upper right', fontsize=10, frameon=True)\n",
    "    plt.show()"
   ]
  },
  {
   "cell_type": "markdown",
   "id": "84319fdd-d035-45e7-89cf-266994ad6c6f",
   "metadata": {},
   "source": [
    "### Exectute Some of Pervious functions all at once"
   ]
  },
  {
   "cell_type": "code",
   "execution_count": 405,
   "id": "81e3d6f2-9d01-4ab8-9e50-205e0652a5df",
   "metadata": {},
   "outputs": [],
   "source": [
    "def run_analysis(file_path):\n",
    "\n",
    "    # Read Data\n",
    "    df = read_data(file_path)\n",
    "\n",
    "    # prep and extract data from original df for time per task analysis\n",
    "    exam_time_df = prep_total_time_data(df)\n",
    "\n",
    "    # convert time taken per task from second to minutes\n",
    "    exam_time_df = calc_time_usage_stats_with_extra(exam_time_df, max_minutes = 210)\n",
    "\n",
    "    exam_time_df = calc_time_usage_stats_without_extra(exam_time_df, max_minutes = 210)\n",
    "\n",
    "\n",
    "    # calculate ideal time \n",
    "   # exam_time_df = calculate_ideal_time_per_task(exam_time_df)\n",
    "\n",
    "    return exam_time_df\n"
   ]
  },
  {
   "cell_type": "markdown",
   "id": "c633fe79-c27a-46dd-8e11-ce17d049aaf5",
   "metadata": {},
   "source": [
    "### Expore Data into a file"
   ]
  },
  {
   "cell_type": "code",
   "execution_count": 406,
   "id": "90271e51-d4d4-4a47-aa59-3d39cd873695",
   "metadata": {},
   "outputs": [],
   "source": [
    "def export_data(df, output_path, file_format='xlsx'):\n",
    "    \"\"\"\n",
    "    Save cleaned data to file\n",
    "    Args:\n",
    "        df (pandas.DataFrame): Cleaned DataFrame\n",
    "        output_path (str): Path to save the file\n",
    "        file_format (str): Format to save ('xlsx', 'csv', 'json')\n",
    "    \"\"\"\n",
    "    try:\n",
    "        if file_format == 'xlsx':\n",
    "            df.to_excel(output_path, index=False)\n",
    "        elif file_format == 'csv':\n",
    "            df.to_csv(output_path, index=False)\n",
    "        elif file_format == 'json':\n",
    "            df.to_json(output_path, orient='records', indent=2)\n",
    "        else:\n",
    "            raise ValueError(f\"Unsupported format: {file_format}\")\n",
    "        \n",
    "        print(f\"Data saved successfully to {output_path}\")\n",
    "    except Exception as e:\n",
    "        print(f\"Error saving data: {e}\")"
   ]
  },
  {
   "cell_type": "markdown",
   "id": "28993bc8-d0b0-4f4c-acfc-9be5d0f9759f",
   "metadata": {},
   "source": [
    "## Execute Analysis"
   ]
  },
  {
   "cell_type": "code",
   "execution_count": 422,
   "id": "e7fb666c-9eb6-4ac1-b0a3-e4603c0c8efa",
   "metadata": {},
   "outputs": [],
   "source": [
    "# Read our data file\n",
    "exam_time_df = run_analysis(\"data/cleaned_data.xlsx\")"
   ]
  },
  {
   "cell_type": "code",
   "execution_count": 408,
   "id": "c08e8b34-7bce-405b-bceb-3fa06c33a616",
   "metadata": {},
   "outputs": [
    {
     "name": "stdout",
     "output_type": "stream",
     "text": [
      "Error saving data: [Errno 13] Permission denied: 'processed data/Total_Exam_Time_Analysis_2024.xlsx'\n"
     ]
    }
   ],
   "source": [
    "export_data(exam_time_df, 'processed data/Total_Exam_Time_Analysis_2024.xlsx', 'xlsx')"
   ]
  },
  {
   "cell_type": "markdown",
   "id": "d923c708-16b6-4fa5-bab2-5456bb0d4895",
   "metadata": {},
   "source": [
    "### Calculating States, outliers and boxplotting"
   ]
  },
  {
   "cell_type": "code",
   "execution_count": 409,
   "id": "28764e34-ec1f-431b-8441-37ca174a742f",
   "metadata": {},
   "outputs": [
    {
     "name": "stdout",
     "output_type": "stream",
     "text": [
      "Outliers removed:\n",
      "     candidate_id  Total_time_used_mins\n",
      "98          17244                 57.28\n",
      "273         17465                 49.25\n",
      "411         17639                 40.75\n"
     ]
    },
    {
     "data": {
      "image/png": "[encoded data removed]",
      "text/plain": [
       "<Figure size 800x600 with 1 Axes>"
      ]
     },
     "metadata": {},
     "output_type": "display_data"
    }
   ],
   "source": [
    "# with extra and incident time\n",
    "q1, q2, q3, mean, iqr, df_with_extra_time = calculate_stats_with_extra_time(exam_time_df)\n",
    "plot_exam_time_boxplot(q1, q2, q3, mean, iqr, df_with_extra_time)"
   ]
  },
  {
   "cell_type": "code",
   "execution_count": 410,
   "id": "ca8b8660-7838-4821-80f6-f38c1c9b1267",
   "metadata": {},
   "outputs": [
    {
     "name": "stdout",
     "output_type": "stream",
     "text": [
      "Outliers removed:\n",
      "     candidate_id  Total_time_used_mins_without_extra\n",
      "98          17244                               57.28\n",
      "273         17465                               49.25\n",
      "411         17639                               40.75\n"
     ]
    },
    {
     "data": {
      "image/png": "[encoded data removed]",
      "text/plain": [
       "<Figure size 800x600 with 1 Axes>"
      ]
     },
     "metadata": {},
     "output_type": "display_data"
    }
   ],
   "source": [
    "# withour extra and incident time from last modified exam time \n",
    "q1, q2, q3, mean, iqr, df_without_extra_time = calculate_stats_without_extra_time(exam_time_df)\n",
    "plot_exam_time_boxplot2(q1, q2, q3, mean, iqr, df_without_extra_time)"
   ]
  }
 ],
 "metadata": {
  "kernelspec": {
   "display_name": "Python 3 (ipykernel)",
   "language": "python",
   "name": "python3"
  },
  "language_info": {
   "codemirror_mode": {
    "name": "ipython",
    "version": 3
   },
   "file_extension": ".py",
   "mimetype": "text/x-python",
   "name": "python",
   "nbconvert_exporter": "python",
   "pygments_lexer": "ipython3",
   "version": "3.12.11"
  }
 },
 "nbformat": 4,
 "nbformat_minor": 5
}
